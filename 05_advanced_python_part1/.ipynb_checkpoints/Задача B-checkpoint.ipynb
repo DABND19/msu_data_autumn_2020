{
 "cells": [
  {
   "cell_type": "markdown",
   "metadata": {},
   "source": [
    "## map, filter и reduce\n",
    "\n",
    "Вам предлагается набор из задачек, для каждой из которых решение — одно выражение с использованием функций map, filter и reduce."
   ]
  },
  {
   "cell_type": "markdown",
   "metadata": {},
   "source": [
    "### 1. Трансформация выражения (переведите выражение слева в выражение справа):\n",
    "\n",
    "['12', '25.6', '84,02', '  69-91'] -> [21, 652, 2048, 1996]"
   ]
  },
  {
   "cell_type": "code",
   "execution_count": 1,
   "metadata": {},
   "outputs": [],
   "source": [
    "import re\n",
    "\n",
    "def solution1(arg):\n",
    "    return [int(re.sub('\\D', '', string)[-1::-1]) for string in arg]\n",
    "\n",
    "\n",
    "solution1(['12', '25.6', '84,02', ' 69-91'])"
   ]
  },
  {
   "cell_type": "markdown",
   "metadata": {},
   "source": [
    "### 2. Трансформация выражения:\n",
    "\n",
    "zip(range(2, 5), range(3, 9, 2)) -> [6, 15, 28]"
   ]
  },
  {
   "cell_type": "code",
   "execution_count": 2,
   "metadata": {},
   "outputs": [
    {
     "data": {
      "text/plain": [
       "[6, 15, 28]"
      ]
     },
     "execution_count": 2,
     "metadata": {},
     "output_type": "execute_result"
    }
   ],
   "source": [
    "def solution2(arg):\n",
    "    return [i * j for i, j in arg]\n",
    "\n",
    "\n",
    "solution2(zip(range(2, 5), range(3, 9, 2)))"
   ]
  },
  {
   "cell_type": "markdown",
   "metadata": {},
   "source": [
    "### 3. Трансформация выражения:\n",
    "\n",
    "range(20) -> [0, 2, 5, 6, 8, 11, 12, 14, 17, 18]"
   ]
  },
  {
   "cell_type": "code",
   "execution_count": 3,
   "metadata": {},
   "outputs": [
    {
     "data": {
      "text/plain": [
       "[0, 2, 5, 6, 8, 11, 12, 14, 17, 18]"
      ]
     },
     "execution_count": 3,
     "metadata": {},
     "output_type": "execute_result"
    }
   ],
   "source": [
    "def solution3(arg):\n",
    "    return [i for i in filter(lambda x: x % 6 == 0 or x % 6 == 2 or x % 6 == 5 ,arg)]\n",
    "\n",
    "\n",
    "solution3(range(20))"
   ]
  },
  {
   "cell_type": "markdown",
   "metadata": {},
   "source": [
    "### 4. Трансформация выражения:\n",
    "\n",
    "['', 25, None, 'python', 0.0, [], ('msu', '1755-01-25')] -> [25, 'python', ('msu', '1755-01-25')]"
   ]
  },
  {
   "cell_type": "code",
   "execution_count": 4,
   "metadata": {},
   "outputs": [
    {
     "data": {
      "text/plain": [
       "[25, 'python', ('msu', '1755-01-25')]"
      ]
     },
     "execution_count": 4,
     "metadata": {},
     "output_type": "execute_result"
    }
   ],
   "source": [
    "def solution4(arg):\n",
    "    return [item for item in filter(lambda x: x, arg)]\n",
    "\n",
    "\n",
    "solution4(['', 25, None, 'python', 0.0, [], ('msu', '1755-01-25')])"
   ]
  },
  {
   "cell_type": "markdown",
   "metadata": {},
   "source": [
    "### 5. Добавьте к каждому элементу списка rooms поле square, показывающее площадь комнаты. Элементы списка rooms ДОЛЖНЫ обновиться!\n",
    "\n",
    "rooms = [\n",
    "    {\"name\": \"комната1\", \"width\": 2, \"length\": 4},\n",
    "    {\"name\": \"комната2\", \"width\": 2.5, \"length\": 5.6},\n",
    "    {\"name\": \"кухня\", \"width\": 3.5, \"length\": 4},\n",
    "    {\"name\": \"туалет\", \"width\": 1.5, \"length\": 1.5},\n",
    "]"
   ]
  },
  {
   "cell_type": "code",
   "execution_count": 12,
   "metadata": {},
   "outputs": [
    {
     "data": {
      "text/plain": [
       "[{'name': 'комната1', 'width': 2, 'length': 4, 'square': 8},\n",
       " {'name': 'комната2', 'width': 2.5, 'length': 5.6, 'square': 14.0},\n",
       " {'name': 'кухня', 'width': 3.5, 'length': 4, 'square': 14.0},\n",
       " {'name': 'туалет', 'width': 1.5, 'length': 1.5, 'square': 2.25}]"
      ]
     },
     "execution_count": 12,
     "metadata": {},
     "output_type": "execute_result"
    }
   ],
   "source": [
    "rooms = [ {\"name\": \"комната1\", \"width\": 2, \"length\": 4},\n",
    "         {\"name\": \"комната2\", \"width\": 2.5, \"length\": 5.6},\n",
    "         {\"name\": \"кухня\", \"width\": 3.5, \"length\": 4},\n",
    "         {\"name\": \"туалет\", \"width\": 1.5, \"length\": 1.5}, ]\n",
    "\n",
    "\n",
    "def solution5(arg):\n",
    "    return [*map(lambda room: room.update({'square': room['width'] * room['length']}), arg)]\n",
    "\n",
    "\n",
    "solution5(rooms)\n",
    "rooms"
   ]
  },
  {
   "cell_type": "markdown",
   "metadata": {},
   "source": [
    "### 6. Добавьте к каждому элементу списка rooms поле square, показывающее площадь комнаты. Элементы исходного списка rooms НЕ ДОЛЖНЫ обновиться! Порядок элементов в результирующем списке должен совпадать с порядком в исходном списке.\n",
    "\n",
    "Замечание: запрещается использовать модуль copy."
   ]
  },
  {
   "cell_type": "code",
   "execution_count": null,
   "metadata": {},
   "outputs": [],
   "source": [
    "rooms = [ {\"name\": \"комната1\", \"width\": 2, \"length\": 4},\n",
    "         {\"name\": \"комната2\", \"width\": 2.5, \"length\": 5.6},\n",
    "         {\"name\": \"кухня\", \"width\": 3.5, \"length\": 4},\n",
    "         {\"name\": \"туалет\", \"width\": 1.5, \"length\": 1.5}, ]\n",
    "\n",
    "\n",
    "def solution6(arg):\n",
    "    return []"
   ]
  },
  {
   "cell_type": "markdown",
   "metadata": {},
   "source": [
    "### 7. Найдите пересечение всех множеств. Используйте функцию reduce.\n",
    "\n",
    "[{1, 2, 3, 4, 5}, {2, 3, 4, 5, 6}, {3, 4, 5, 6, 7}] -> {3, 4, 5}"
   ]
  },
  {
   "cell_type": "code",
   "execution_count": 14,
   "metadata": {},
   "outputs": [
    {
     "data": {
      "text/plain": [
       "{1, 2, 3, 4, 5, 6, 7}"
      ]
     },
     "execution_count": 14,
     "metadata": {},
     "output_type": "execute_result"
    }
   ],
   "source": [
    "def solution7(arg):\n",
    "    return {item for s in arg for item in s}\n",
    "\n",
    "\n",
    "solution7([{1, 2, 3, 4, 5}, {2, 3, 4, 5, 6}, {3, 4, 5, 6, 7}])"
   ]
  },
  {
   "cell_type": "markdown",
   "metadata": {},
   "source": [
    "### 8. Посчитайте, сколько раз встречается каждый элемент в списке.\n",
    "\n",
    "[1, 2, 1, 1, 3, 2, 3, 2, 4, 2, 4] -> {1: 3, 2: 4, 3: 2, 4: 2}\n",
    "\n",
    "Замечание: запрещается использовать класс Counter из модуля collections."
   ]
  },
  {
   "cell_type": "code",
   "execution_count": null,
   "metadata": {},
   "outputs": [],
   "source": []
  },
  {
   "cell_type": "markdown",
   "metadata": {},
   "source": [
    "### 9. Выведите имена студентов, чей GPA > 4.5.\n",
    "\n",
    "students = [\n",
    "    {'name': 'Alina', 'gpa': 4.57},\n",
    "    {'name': 'Sergey', 'gpa': 5.0},\n",
    "    {'name': 'Nastya', 'gpa': 4.21},\n",
    "    {'name': 'Valya', 'gpa': 4.72},\n",
    "    {'name': 'Anton', 'gpa': 4.32},\n",
    "]\n",
    "\n",
    "students -> ['Alina', 'Sergey', 'Valya']"
   ]
  },
  {
   "cell_type": "code",
   "execution_count": null,
   "metadata": {},
   "outputs": [],
   "source": []
  },
  {
   "cell_type": "markdown",
   "metadata": {},
   "source": [
    "### 10. Счастливые билетики по-питерски.\n",
    "\n",
    "Билетик называется счастливым, если сумма цифр на четных местах равна сумме цифр на нечетных. Из исходного списка выведите только счастливые билетики.\n",
    "\n",
    "Пример:\n",
    "\n",
    "['165033', '477329', '631811', '478117', '475145', '238018', '917764', '394286'] -> ['165033', '475145', '238018']\n",
    "\n",
    "\n",
    "Подсказка\n",
    "\n",
    "Замечание: разрешается использовать функцию sum."
   ]
  },
  {
   "cell_type": "code",
   "execution_count": null,
   "metadata": {},
   "outputs": [],
   "source": []
  }
 ],
 "metadata": {
  "kernelspec": {
   "display_name": "Python 3",
   "language": "python",
   "name": "python3"
  },
  "language_info": {
   "codemirror_mode": {
    "name": "ipython",
    "version": 3
   },
   "file_extension": ".py",
   "mimetype": "text/x-python",
   "name": "python",
   "nbconvert_exporter": "python",
   "pygments_lexer": "ipython3",
   "version": "3.7.9"
  }
 },
 "nbformat": 4,
 "nbformat_minor": 4
}
