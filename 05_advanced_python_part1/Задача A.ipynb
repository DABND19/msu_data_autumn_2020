{
 "cells": [
  {
   "cell_type": "markdown",
   "metadata": {},
   "source": [
    "## Выражения-генераторы\n",
    "\n",
    "Вам предлагается набор из задачек, для каждой из которых решение — одно выражение-генератор."
   ]
  },
  {
   "cell_type": "markdown",
   "metadata": {},
   "source": [
    "### 1. Трансформация выражения (переведите выражение слева в выражение справа):\n",
    "\n",
    "'python' -> ['pppp', 'yyyy', 'tttt', 'hhhh', 'oooo', 'nnnn']"
   ]
  },
  {
   "cell_type": "code",
   "execution_count": 21,
   "metadata": {},
   "outputs": [
    {
     "data": {
      "text/plain": [
       "['wwww', 'oooo', 'rrrr', 'dddd']"
      ]
     },
     "execution_count": 21,
     "metadata": {},
     "output_type": "execute_result"
    }
   ],
   "source": [
    "def solution1(arg):\n",
    "    return [letter * 4 for letter in arg]\n",
    "\n",
    "\n",
    "solution1('word')"
   ]
  },
  {
   "cell_type": "markdown",
   "metadata": {},
   "source": [
    "### 2. Трансформация выражения:\n",
    "\n",
    "'python' -> ['p', 'yy', 'ttt', 'hhhh', 'ooooo', 'nnnnnn']"
   ]
  },
  {
   "cell_type": "code",
   "execution_count": 22,
   "metadata": {},
   "outputs": [
    {
     "data": {
      "text/plain": [
       "['w', 'oo', 'rrr', 'dddd']"
      ]
     },
     "execution_count": 22,
     "metadata": {},
     "output_type": "execute_result"
    }
   ],
   "source": [
    "def solution2(arg):\n",
    "    return [letter * (i + 1) for i, letter in enumerate(arg)]\n",
    "\n",
    "\n",
    "solution2('word')"
   ]
  },
  {
   "cell_type": "markdown",
   "metadata": {},
   "source": [
    "### 3. Трансформация выражения:\n",
    "\n",
    "range(16) -> [0, 3, 5, 6, 9, 10, 12, 15]"
   ]
  },
  {
   "cell_type": "code",
   "execution_count": 23,
   "metadata": {},
   "outputs": [
    {
     "data": {
      "text/plain": [
       "[0, 3, 5, 6, 9, 10, 12, 15]"
      ]
     },
     "execution_count": 23,
     "metadata": {},
     "output_type": "execute_result"
    }
   ],
   "source": [
    "def solution3(arg):\n",
    "    return [i for i in arg if i % 3 == 0 or i % 5 == 0]\n",
    "\n",
    "\n",
    "solution3(range(16))"
   ]
  },
  {
   "cell_type": "markdown",
   "metadata": {},
   "source": [
    "### 4. Трансформация выражения:\n",
    "\n",
    "[[1, 2, 3], [4, 5, 6, 7], [8, 9], [0]] -> [1, 2, 3, 4, 5, 6, 7, 8, 9, 0]\n",
    "\n",
    "Замечание: запрещается использовать функции chain и chain.from_iterable из модуля itertools."
   ]
  },
  {
   "cell_type": "code",
   "execution_count": 24,
   "metadata": {},
   "outputs": [
    {
     "data": {
      "text/plain": [
       "[1, 2, 3, 4, 5, 6, 7, 8, 9, 0]"
      ]
     },
     "execution_count": 24,
     "metadata": {},
     "output_type": "execute_result"
    }
   ],
   "source": [
    "def solution4(arg):\n",
    "    return [item\n",
    "            for lst in arg\n",
    "            for item in lst]\n",
    "\n",
    "\n",
    "solution4([[1, 2, 3], [4, 5, 6, 7], [8, 9], [0]])"
   ]
  },
  {
   "cell_type": "markdown",
   "metadata": {},
   "source": [
    "### 5. Пифагоровы тройки.\n",
    "\n",
    "Выведите все уникальные пифагоровы тройки, где каждое из чисел не превосходит n. На вход подается число n (n ≤ 30).\n",
    "\n",
    "15 -> [(3, 4, 5), (5, 12, 13), (6, 8, 10), (9, 12, 15)]"
   ]
  },
  {
   "cell_type": "code",
   "execution_count": 36,
   "metadata": {},
   "outputs": [
    {
     "data": {
      "text/plain": [
       "[(3, 4, 5), (5, 12, 13), (6, 8, 10), (9, 12, 15)]"
      ]
     },
     "execution_count": 36,
     "metadata": {},
     "output_type": "execute_result"
    }
   ],
   "source": [
    "def solution5(arg):\n",
    "    return [(a, b, c)\n",
    "            for a in range(1, arg + 1)\n",
    "            for b in range(a, arg + 1)\n",
    "            for c in range(b, arg + 1)\n",
    "            if (a * a + b * b) == c * c]\n",
    "\n",
    "\n",
    "solution5(15)"
   ]
  },
  {
   "cell_type": "markdown",
   "metadata": {},
   "source": [
    "### 6. Трансформация выражения:\n",
    "\n",
    "([0, 1, 2], [0, 1, 2, 3, 4]) -> [[0, 1, 2, 3, 4], [1, 2, 3, 4, 5], [2, 3, 4, 5, 6]]"
   ]
  },
  {
   "cell_type": "code",
   "execution_count": 38,
   "metadata": {},
   "outputs": [
    {
     "data": {
      "text/plain": [
       "[[0, 1, 2, 3, 4], [1, 2, 3, 4, 5], [2, 3, 4, 5, 6]]"
      ]
     },
     "execution_count": 38,
     "metadata": {},
     "output_type": "execute_result"
    }
   ],
   "source": [
    "def solution6(arg):\n",
    "    return [[i + j for j in arg[1]] for i in arg[0]]\n",
    "\n",
    "\n",
    "solution6(([0, 1, 2], [0, 1, 2, 3, 4]))"
   ]
  },
  {
   "cell_type": "markdown",
   "metadata": {},
   "source": [
    "### 7. Транспонирование матрицы.\n",
    "\n",
    "[[1, 2], [3, 4], [5, 6]] -> [[1, 3, 5], [2, 4, 6]]\n",
    "[[1, 3, 5], [2, 4, 6]] -> [[1, 2], [3, 4], [5, 6]]\n",
    "\n",
    "Замечание: запрещается использовать сторонние библиотеки, например, scipy и numpy."
   ]
  },
  {
   "cell_type": "code",
   "execution_count": 1,
   "metadata": {},
   "outputs": [
    {
     "data": {
      "text/plain": [
       "[[1, 2], [3, 4], [5, 6]]"
      ]
     },
     "execution_count": 1,
     "metadata": {},
     "output_type": "execute_result"
    }
   ],
   "source": [
    "def solution7(arg):\n",
    "    return [[row[i] for row in arg] for i in range(len(arg[0]))]\n",
    "\n",
    "\n",
    "solution7([[1, 3, 5], [2, 4, 6]])"
   ]
  },
  {
   "cell_type": "markdown",
   "metadata": {},
   "source": [
    "### 8. Трансформация выражения:\n",
    "\n",
    "[\"0\", \"1 2 3\", \"4 5 6 7\", \"8 9\"] -> [[0], [1, 2, 3], [4, 5, 6, 7], [8, 9]]"
   ]
  },
  {
   "cell_type": "code",
   "execution_count": 49,
   "metadata": {},
   "outputs": [
    {
     "data": {
      "text/plain": [
       "[[0], [1, 2, 3], [4, 5, 6, 7], [8, 9]]"
      ]
     },
     "execution_count": 49,
     "metadata": {},
     "output_type": "execute_result"
    }
   ],
   "source": [
    "def solution8(arg):\n",
    "    return [[int(digit) for digit in word.split()] for word in arg]\n",
    "\n",
    "\n",
    "solution8([\"0\", \"1 2 3\", \"4 5 6 7\", \"8 9\"])"
   ]
  },
  {
   "cell_type": "markdown",
   "metadata": {},
   "source": [
    "### 9. Трансформация выражения:\n",
    "\n",
    "range(0, 7) -> {'a': 0, 'b': 1, 'c': 4, 'd': 9, 'e': 16, 'f': 25, 'g': 36}\n",
    "\n",
    "Замечание: запрещается использовать ключевое слово dict, используйте фигурные скобки."
   ]
  },
  {
   "cell_type": "code",
   "execution_count": 59,
   "metadata": {},
   "outputs": [
    {
     "data": {
      "text/plain": [
       "{'a': 0, 'b': 1, 'c': 4, 'd': 9, 'e': 16, 'f': 25, 'g': 36}"
      ]
     },
     "execution_count": 59,
     "metadata": {},
     "output_type": "execute_result"
    }
   ],
   "source": [
    "def solution9(arg):\n",
    "    return {chr(i + ord('a')) : i ** 2 for i in arg}\n",
    "\n",
    "\n",
    "solution9(range(0, 7))"
   ]
  },
  {
   "cell_type": "markdown",
   "metadata": {},
   "source": [
    "### 10. Трансформация выражения:\n",
    "\n",
    "['Alice', 'vova', 'ANTON', 'Bob', 'kAMILA', 'CJ', 'ALICE', 'Nastya'] -> {'Alice', 'Anton', 'Kamila', 'Nastya', 'Vova'}\n",
    "\n",
    "Замечание: запрещается использовать ключевое слово set, используйте фигурные скобки."
   ]
  },
  {
   "cell_type": "code",
   "execution_count": 61,
   "metadata": {},
   "outputs": [
    {
     "data": {
      "text/plain": [
       "{'Alice', 'Anton', 'Kamila', 'Nastya', 'Vova'}"
      ]
     },
     "execution_count": 61,
     "metadata": {},
     "output_type": "execute_result"
    }
   ],
   "source": [
    "def solution10(arg):\n",
    "    return {name.title() for name in arg if len(name) > 3}\n",
    "\n",
    "\n",
    "solution10(['Alice', 'vova', 'ANTON', 'Bob', 'kAMILA', 'CJ', 'ALICE', 'Nastya'])"
   ]
  }
 ],
 "metadata": {
  "kernelspec": {
   "display_name": "Python 3",
   "language": "python",
   "name": "python3"
  },
  "language_info": {
   "codemirror_mode": {
    "name": "ipython",
    "version": 3
   },
   "file_extension": ".py",
   "mimetype": "text/x-python",
   "name": "python",
   "nbconvert_exporter": "python",
   "pygments_lexer": "ipython3",
   "version": "3.7.9"
  }
 },
 "nbformat": 4,
 "nbformat_minor": 4
}
