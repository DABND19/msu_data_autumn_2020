{
 "cells": [
  {
   "cell_type": "markdown",
   "metadata": {},
   "source": [
    "## Задача A:\n",
    "### Оставить различные\n",
    "\n",
    "Дан массив a из n целых чисел. Напишите программу, которая выведет:\n",
    "1. исходный список чисел без дубликатов с сохранением порядка;\n",
    "2. количество чисел, которые были удалены из массива.\n",
    "\n",
    "### Формат входных данных\n",
    "\n",
    "В первой строке число n (1 ≤ n ≤ 100000). Во второй строке записаны n целых чисел ai (1 ≤ ai ≤ 10000).\n",
    "### Формат результата\n",
    "\n",
    "Выведите в первой строке список уникальных чисел. Во второй строке число удаленных элементов.\n"
   ]
  },
  {
   "cell_type": "code",
   "execution_count": 52,
   "metadata": {},
   "outputs": [
    {
     "name": "stdout",
     "output_type": "stream",
     "text": [
      "10\n",
      "7 10 3 2 7 4 8 5 9 10\n",
      "7 10 3 2 4 8 5 9 \n",
      "2\n"
     ]
    }
   ],
   "source": [
    "num_count = int(input())\n",
    "\n",
    "nums = [int(item) for item in input().split()]\n",
    "result = list()\n",
    "\n",
    "for num in nums:\n",
    "    if result.count(num) == 0:\n",
    "        result.append(num)\n",
    "\n",
    "for num in result:\n",
    "    print(num, end=' ')\n",
    "print()\n",
    "print(num_count - len(result))\n"
   ]
  },
  {
   "cell_type": "markdown",
   "metadata": {},
   "source": [
    "## Задача B:\n",
    "### Сложная сортировка\n",
    "\n",
    "Дан массив a1,...,an из n натуральных чисел.\n",
    "\n",
    "Требуется отсортировать числа в массиве в порядке возрастания суммы цифр, а при равной сумме цифр — по возрастанию самого числа.\n",
    "### Формат входных данных\n",
    "\n",
    "В первой строке задается число n (3 ≤ n ≤ 1000).\n",
    "\n",
    "Во второй — задаются n натуральных чисел a1,...,an через пробел (0 ≤ ak ≤ 1000).\n",
    "### Формат результата\n",
    "\n",
    "Выведите отсортированный список чисел через пробел."
   ]
  },
  {
   "cell_type": "code",
   "execution_count": 7,
   "metadata": {},
   "outputs": [
    {
     "name": "stdout",
     "output_type": "stream",
     "text": [
      "3\n",
      "13 22 4\n",
      "4 13 22 "
     ]
    }
   ],
   "source": [
    "def digits_sum(num):\n",
    "    result = 0\n",
    "    while num != 0:\n",
    "        result += num % 10\n",
    "        num //= 10\n",
    "    return result\n",
    "\n",
    "\n",
    "nums_count = int(input())\n",
    "\n",
    "nums = [int(item) for item in input().split(' ')]\n",
    "\n",
    "nums.sort(key=lambda num: (digits_sum(num), num))\n",
    "\n",
    "for num in nums:\n",
    "    print(num, end=' ')\n"
   ]
  },
  {
   "cell_type": "markdown",
   "metadata": {},
   "source": [
    "## Задача C:\n",
    "### Сдача в магазине \"Фикси\"\n",
    "\n",
    "Представьте, что вы кассир в популярной сети продовольственных магазинов \"Фикси\". И вам нужно вернуть как можно более неудобным способом сдачу, собранную только монетами. При этом сдачу нужно вернуть минимальным количеством монет. В вашем распоряжении имеются монеты номиналом в 1, 5, 10 и 50 копеек и 1, 2, 5 и 10 руб.\n",
    "### Формат входных данных\n",
    "\n",
    "На вход вашей программе подается неотрицательное число N - сумма сдачи в формате '%.2f'.\n",
    "### Формат результата\n",
    "\n",
    "Выведите список монет, которые должен выдать кассир: номинал монеты и количество монет, разделенных символом табуляции.\n",
    "\n",
    "Порядок монет идет в соответствии с уменьшением их номинала. Номинал монеты печатается в рублях в формате '%5.2f'."
   ]
  },
  {
   "cell_type": "code",
   "execution_count": 66,
   "metadata": {},
   "outputs": [
    {
     "name": "stdout",
     "output_type": "stream",
     "text": [
      "11.00\n",
      "10.00\t1\n",
      " 1.00\t1\n"
     ]
    }
   ],
   "source": [
    "sum = float(input())\n",
    "\n",
    "denominations = (10, 5, 2, 1, 0.5, 0.1, 0.05, 0.01)\n",
    "result = dict.fromkeys(denominations, 0)\n",
    "\n",
    "for coin in denominations:\n",
    "    result[coin] = int(sum // coin)\n",
    "    if result[coin] != 0:\n",
    "        print(\"%5.2f\" % coin, result[coin], sep='\\t')\n",
    "    sum %= coin\n"
   ]
  },
  {
   "cell_type": "markdown",
   "metadata": {},
   "source": [
    "## Задача D:\n",
    "### Сумма конкатенаций\n",
    "\n",
    "На стандартный поток ввода подаются два числа N и K. Напишите программу, которая по заданным числам вычисляет число: N + NN + NNN + ... + N...N, где N...N - число, составленное конкатенацией K раз числа N.\n",
    "### Формат входных данных\n",
    "\n",
    "На вход вашей программе подаются два целых неотрицательных числа N и K, где N - число, которое нужно повторить K раз. Числа разделены пробелом.\n",
    "### Формат результата\n",
    "\n",
    "Выведите получившееся число."
   ]
  },
  {
   "cell_type": "code",
   "execution_count": 70,
   "metadata": {},
   "outputs": [
    {
     "name": "stdout",
     "output_type": "stream",
     "text": [
      "3 0\n",
      "0\n"
     ]
    }
   ],
   "source": [
    "N, K = [int(item) for item in input().split(' ')]\n",
    "\n",
    "result = 0\n",
    "\n",
    "for i in range(1, K + 1):\n",
    "    result += int(str(N) * i)\n",
    "\n",
    "print(result)\n"
   ]
  },
  {
   "cell_type": "markdown",
   "metadata": {},
   "source": [
    "## Задача E:\n",
    "### Анаграммы\n",
    "\n",
    "Анаграмма - это слово или фраза, образованные из букв другого слова или фразы путем перестановки. Напишите программу, которая найдет все анаграммы образованные из одинакового набора букв.\n",
    "### Формат входных данных\n",
    "\n",
    "На вход вашей программе подается число N (число слов). Далее идет список слов, каждая слово идет на новой строке.\n",
    "### Формат результата\n",
    "\n",
    "Выведите сгруппированный список анаграмм: каждая строка содержит список слов из одних и тех же букв. Слова разделены пробелом.\n",
    "\n",
    "Порядок слов в строке и порядок строк не важны."
   ]
  },
  {
   "cell_type": "code",
   "execution_count": 1,
   "metadata": {},
   "outputs": [
    {
     "name": "stdout",
     "output_type": "stream",
     "text": [
      "1\n",
      "1\n",
      "1 \n"
     ]
    }
   ],
   "source": [
    "words_count = int(input())\n",
    "result = dict()\n",
    "\n",
    "for i in range(0, words_count):\n",
    "    word = input()\n",
    "    key = tuple(sorted(word))\n",
    "    result.setdefault(key, list()).append(word)\n",
    "    \n",
    "for words in result.values():\n",
    "    for word in words:\n",
    "        print(word, end=' ')\n",
    "    print()\n"
   ]
  },
  {
   "cell_type": "markdown",
   "metadata": {},
   "source": [
    "## Задача F:\n",
    "### Анаграммы 2.0: Предложения\n",
    "\n",
    "На вход программе подаются два предложения, каждое предложение начинается с новой строки. Необходимо проверить, можно ли получить второе предложения из первого с помощью перестановки и удаления слов. Если такое возможно, напечатайте YES, в противном случае - NO."
   ]
  },
  {
   "cell_type": "code",
   "execution_count": 41,
   "metadata": {},
   "outputs": [
    {
     "name": "stdout",
     "output_type": "stream",
     "text": [
      "Вопросов всегда больше чем ответов\n",
      "Ответов всегда больше чем вопросов\n",
      "YES\n"
     ]
    }
   ],
   "source": [
    "def count_words(sentence):\n",
    "    words = sentence.lower().split(' ')\n",
    "    result = dict.fromkeys(words, 0)\n",
    "    for word in words:\n",
    "        result[word] += 1\n",
    "    return result\n",
    "    \n",
    "\n",
    "sentence_1 = count_words(input())\n",
    "sentence_2 = count_words(input())\n",
    "\n",
    "result = True\n",
    "\n",
    "for word in sentence_2.keys():\n",
    "    if sentence_2[word] > sentence_1.get(word, 0):\n",
    "        result = False\n",
    "        \n",
    "if result:\n",
    "    print('YES')\n",
    "else:\n",
    "    print('NO')\n"
   ]
  },
  {
   "cell_type": "markdown",
   "metadata": {},
   "source": [
    "## Задача G:\n",
    "### Максимальное произведение\n",
    "\n",
    "На стандартном потоке ввода задаётся последовательность из N целых чисел Ai (1 ≤ i ≤ N).\n",
    "\n",
    "Требуется найти такие числа Ai, Aj (i ≠ j, 1 ≤ i,j ≤ N), что произведение Ai * Aj максимально.\n",
    "\n",
    "Напечатайте эти числа: сначала меньшее, потом большее. Если различные пары чисел дают одно и то же максимальное произведение, напечатайте ту пару, сумма чисел в которой больше.\n",
    "### Формат входных данных\n",
    "\n",
    "На вход вашей программе подается последовательность целых чисел, разделенных пробелом. Гарантируется, что длина последовательности не менее 2-х.\n",
    "### Формат результата\n",
    "\n",
    "Выведите два числа через пробел."
   ]
  },
  {
   "cell_type": "code",
   "execution_count": 21,
   "metadata": {},
   "outputs": [
    {
     "name": "stdout",
     "output_type": "stream",
     "text": [
      "10 0 -2\n",
      "0 10\n"
     ]
    }
   ],
   "source": [
    "first_min = None\n",
    "second_min = None\n",
    "\n",
    "first_max = None\n",
    "second_max = None\n",
    "\n",
    "for item in input().split(' '):\n",
    "    num = int(item)\n",
    "    if first_max is None or num > first_max:\n",
    "        second_max = first_max\n",
    "        first_max = num\n",
    "    elif second_max is None or num > second_max:\n",
    "        second_max = num\n",
    "\n",
    "    if first_min is None or num < first_min:\n",
    "        second_min = first_min\n",
    "        first_min = num\n",
    "    elif second_min is None or num < second_min:\n",
    "        second_min = num\n",
    "\n",
    "if first_max * second_max < first_min * second_min:\n",
    "    print(first_min, second_min)\n",
    "else:\n",
    "    print(second_max, first_max)\n"
   ]
  },
  {
   "cell_type": "markdown",
   "metadata": {},
   "source": [
    "## Задача H:\n",
    "### Сжатие списков\n",
    "\n",
    "На вход подается конечная последовательность из целых чисел. Напишите программу, которая представит эту последовательность чисел в виде списка диапазонов (возрастающих и/или убывающих).\n",
    "\n",
    "Последовательность должна покрываться минимальным числом списков диапазонов. Размер каждого из диапазонов также должен быть минимален. Размером диапазоном назовем разницу между концом и началом диапазона.\n",
    "\n",
    "Например, диапазоны range(0, 7, 3) и range(0, 9, 3) эквивалентны, так как оба задают список [0, 3, 6], но первый диапазон короче.\n",
    "### Формат входных данных\n",
    "\n",
    "На вход вашей программе подается последовательность целых чисел, разделенных пробелом.\n",
    "### Формат результата\n",
    "\n",
    "Выведете список диапазонов в формате: начало, конец, шаг. Все числа разделены пробелом. Каждый диапазон находится на новой строке."
   ]
  },
  {
   "cell_type": "code",
   "execution_count": 17,
   "metadata": {},
   "outputs": [
    {
     "name": "stdout",
     "output_type": "stream",
     "text": [
      "1 1 1 1 1 1 1\n",
      "1 2 1\n",
      "1 2 1\n",
      "1 2 1\n",
      "1 2 1\n",
      "1 2 1\n",
      "1 2 1\n",
      "1 2 1\n"
     ]
    }
   ],
   "source": [
    "def make_range(begin, last, step):\n",
    "    if step is None or step == 0:\n",
    "        return (begin, last + 1, 1)\n",
    "    elif step > 0:\n",
    "        return (begin, last + 1, step)\n",
    "    elif step < 0:\n",
    "        return (begin, last - 1, step)\n",
    "\n",
    "\n",
    "result = list()\n",
    "\n",
    "begin = None\n",
    "prev = None\n",
    "step = None\n",
    "\n",
    "for item in input().split(' '):\n",
    "    num = int(item)\n",
    "\n",
    "    if begin is None:\n",
    "        begin = num\n",
    "    elif step is None:\n",
    "        step = num - prev\n",
    "\n",
    "    if prev is not None and (num - prev != step or num == prev):\n",
    "        result.append(make_range(begin, prev, step))\n",
    "        begin = num\n",
    "        step = None\n",
    "\n",
    "    prev = num\n",
    "\n",
    "result.append(make_range(begin, prev, step))\n",
    "\n",
    "for item in result:\n",
    "    begin, end, step = item\n",
    "    print(begin, end, step)\n"
   ]
  },
  {
   "cell_type": "markdown",
   "metadata": {},
   "source": [
    "## Задача I:\n",
    "### Загадка\n",
    "\n",
    "Загадано натуральное число x от 1 до 100000 (оба числа включены). Вам нужно написать программу, отгадывающую это число.\n",
    "\n",
    "Программа может задавать вопросы вида «Верно ли, что x < a» для различных a, но ответы на эти вопросы она получает не сразу.\n",
    "\n",
    "Вопросы задаются раундами — в одном раунде можно задать произвольное количество вопросов и по окончании раунда получить ответы на все эти вопросы.\n",
    "\n",
    "За каждый вопрос нужно заплатить 1 монету, за каждый раунд 10 монет. Нужно привести алгоритм, который отгадает число x, заплатив не больше чем 100 монет.\n",
    "### Формат входных данных\n",
    "\n",
    "Это интерактивная задача. Тестируемой программе не подается никаких входных данных."
   ]
  },
  {
   "cell_type": "code",
   "execution_count": 16,
   "metadata": {},
   "outputs": [
    {
     "name": "stdout",
     "output_type": "stream",
     "text": [
      "? 10000\n",
      "? 19999\n",
      "? 29998\n",
      "? 39997\n",
      "? 49996\n",
      "? 59995\n",
      "? 69994\n",
      "? 79993\n",
      "? 89992\n",
      "? 99991\n",
      "+\n",
      "0\n",
      "0\n",
      "0\n",
      "0\n",
      "0\n",
      "0\n",
      "0\n",
      "0\n",
      "0\n",
      "0\n",
      "? 99992\n",
      "? 99993\n",
      "? 99994\n",
      "? 99995\n",
      "? 99996\n",
      "? 99997\n",
      "? 99998\n",
      "? 99999\n",
      "? 100000\n",
      "+\n",
      "0\n",
      "0\n",
      "0\n",
      "0\n",
      "0\n",
      "0\n",
      "0\n",
      "0\n",
      "0\n",
      "! 100000\n"
     ]
    }
   ],
   "source": [
    "start = 1\n",
    "finish = 100000\n",
    "\n",
    "request_num = 10\n",
    "\n",
    "\n",
    "def search(begin, end):\n",
    "    if end - begin <= 1:\n",
    "        return begin\n",
    "\n",
    "    step = max(1, (end - begin) // request_num)\n",
    "\n",
    "    search_range = range(begin + step, end + 1, step)\n",
    "\n",
    "    for point in search_range:\n",
    "        print('?', point, flush=True)\n",
    "\n",
    "    print('+', flush=True)\n",
    "\n",
    "    flag = True\n",
    "\n",
    "    for point in search_range:\n",
    "        reply = int(input())\n",
    "\n",
    "        if reply and flag:\n",
    "            end = point\n",
    "            flag = False\n",
    "\n",
    "        if flag:\n",
    "            begin = point\n",
    "\n",
    "    return search(begin, end)\n",
    "\n",
    "\n",
    "print('!', search(start, finish))\n"
   ]
  }
 ],
 "metadata": {
  "kernelspec": {
   "display_name": "Python 3",
   "language": "python",
   "name": "python3"
  },
  "language_info": {
   "codemirror_mode": {
    "name": "ipython",
    "version": 3
   },
   "file_extension": ".py",
   "mimetype": "text/x-python",
   "name": "python",
   "nbconvert_exporter": "python",
   "pygments_lexer": "ipython3",
   "version": "3.7.9"
  }
 },
 "nbformat": 4,
 "nbformat_minor": 4
}
