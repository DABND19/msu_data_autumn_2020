{
 "cells": [
  {
   "cell_type": "markdown",
   "metadata": {},
   "source": [
    "# Регулярные выражения"
   ]
  },
  {
   "cell_type": "markdown",
   "metadata": {},
   "source": [
    "**Регулярные выражения** _\\(regular expressions, RegExp\\)_ — это формальный язык для операций \\(поиск, замена и т.п.\\) с подстроками в тексте. Иными словами, это способ задать некоторый паттерн и найти / заменить на что-либо те кусочки текста, которые с ним совпадают."
   ]
  },
  {
   "cell_type": "markdown",
   "metadata": {},
   "source": [
    "<img width='450px' src=\"images/use-regex.jpg\"></img>"
   ]
  },
  {
   "cell_type": "markdown",
   "metadata": {},
   "source": [
    "Некоторые люди, когда сталкиваются с проблемой, думают:\n",
    "\n",
    "    «Я знаю, я решу её с помощью регулярных выражений.»\n",
    "\n",
    "Теперь у них **ДВЕ** проблемы."
   ]
  },
  {
   "cell_type": "markdown",
   "metadata": {},
   "source": [
    "## Что почитать и посмотреть?\n",
    "\n",
    "1. Хороший [«быстрый старт»](https://tproger.ru/translations/regular-expression-python/) с задачками от TProger.\n",
    "2. Отличный [туториал](https://habr.com/post/349860/) с задачками на Хабре.\n",
    "3. Регулярные выражения за 20 минут [видео на YouTube](https://www.youtube.com/watch?v=_pLpx6btq6U).\n",
    "4. [Документация](https://docs.python.org/3/library/re.html) к стандартной библиотеке."
   ]
  },
  {
   "cell_type": "code",
   "execution_count": 1,
   "metadata": {},
   "outputs": [],
   "source": [
    "import re"
   ]
  },
  {
   "cell_type": "markdown",
   "metadata": {},
   "source": [
    "Отладчики регулярных выражений:\n",
    "* https://www.debuggex.com/ ;\n",
    "* https://regex101.com/ ."
   ]
  },
  {
   "cell_type": "markdown",
   "metadata": {},
   "source": [
    "`bash`-утилиты, использующие регулярные выражения: [`sed`](https://losst.ru/komanda-sed-linux), [`grep`](https://losst.ru/gerp-poisk-vnutri-fajlov-v-linux).\n",
    "\n",
    "`IDE -> Find & Replace -> RegExp`"
   ]
  },
  {
   "cell_type": "markdown",
   "metadata": {},
   "source": [
    "### re.search\n",
    "\n",
    "Эта функция, ищет заданный шаблон в **любом** месте строки, но возвращает только первое найденное совпадение. \n",
    "\n",
    "Аргументы: что найти, где найти."
   ]
  },
  {
   "cell_type": "code",
   "execution_count": 2,
   "metadata": {},
   "outputs": [
    {
     "data": {
      "text/plain": [
       "<re.Match object; span=(8, 11), match='cat'>"
      ]
     },
     "execution_count": 2,
     "metadata": {},
     "output_type": "execute_result"
    }
   ],
   "source": [
    "re.search(r'cat', 'the fat cat is on the mat')"
   ]
  },
  {
   "cell_type": "code",
   "execution_count": 3,
   "metadata": {},
   "outputs": [
    {
     "data": {
      "text/plain": [
       "'cat'"
      ]
     },
     "execution_count": 3,
     "metadata": {},
     "output_type": "execute_result"
    }
   ],
   "source": [
    "re.search(r'cat', 'the fat cat is on the mat').group(0)"
   ]
  },
  {
   "cell_type": "markdown",
   "metadata": {},
   "source": [
    "### re.findall\n",
    "\n",
    "Эта функция возвращает список **всех** найденных совпадений в любом месте строки. Аргументы у нее те же, что и у предыдущей функции.\n",
    "\n",
    "**Замечание:** если вы уверены, что в строке только одно вхождение, предпочитайте `re.search`."
   ]
  },
  {
   "cell_type": "code",
   "execution_count": 4,
   "metadata": {},
   "outputs": [
    {
     "data": {
      "text/plain": [
       "['the', 'the']"
      ]
     },
     "execution_count": 4,
     "metadata": {},
     "output_type": "execute_result"
    }
   ],
   "source": [
    "re.findall(r'the', 'the fat cat is on the mat')"
   ]
  },
  {
   "cell_type": "markdown",
   "metadata": {},
   "source": [
    "### re.sub\n",
    "\n",
    "Эта функция ищет шаблон в строке и заменяет его на указанную подстроку. Если шаблон не найден, строка остается неизменной.\n",
    "\n",
    "Аргументы: что заменить; на что заменить; где заменить.\n",
    "\n",
    "Заменяются все подстроки, которые нашлись по шаблону."
   ]
  },
  {
   "cell_type": "code",
   "execution_count": 5,
   "metadata": {},
   "outputs": [
    {
     "data": {
      "text/plain": [
       "'my fat cat is on my mat'"
      ]
     },
     "execution_count": 5,
     "metadata": {},
     "output_type": "execute_result"
    }
   ],
   "source": [
    "re.sub(r'the', 'my', 'the fat cat is on the mat')"
   ]
  },
  {
   "cell_type": "markdown",
   "metadata": {},
   "source": [
    "### Как задать регулярное выражение?"
   ]
  },
  {
   "cell_type": "markdown",
   "metadata": {},
   "source": [
    "* `\\d` – любая цифра (`[0-9]`);\n",
    "* `\\w` – любая цифра, любая латинская буква или символ `_` (`[0-9a-zA-Z_]`);\n",
    "* `\\s` – любой пробельный символ;\n",
    "* `[...]` – любой из перечисленных символов, например, `[12345]` (или диапазоны, см. выше);\n",
    "* `[^...]` – любой символ кроме перечисленных;\n",
    "* `^` – символ начала строки;\n",
    "* `$` – символ конца строки;\n",
    "* `\\b` – граница слова."
   ]
  },
  {
   "cell_type": "code",
   "execution_count": 6,
   "metadata": {},
   "outputs": [
    {
     "data": {
      "text/plain": [
       "['fat', 'cat', 'mat']"
      ]
     },
     "execution_count": 6,
     "metadata": {},
     "output_type": "execute_result"
    }
   ],
   "source": [
    "# найти все слова из 3-х букв, кончающиеся на at\n",
    "\n",
    "re.findall(r'\\b\\wat\\b', 'the fat cat is on the mat')"
   ]
  },
  {
   "cell_type": "code",
   "execution_count": 7,
   "metadata": {},
   "outputs": [
    {
     "data": {
      "text/plain": [
       "['mat']"
      ]
     },
     "execution_count": 7,
     "metadata": {},
     "output_type": "execute_result"
    }
   ],
   "source": [
    "# найти слово из 3-х букв, кончающееся на at и стоящее в конце строки\n",
    "\n",
    "re.findall(r'\\b\\wat$', 'the fat cat is on the mat')"
   ]
  },
  {
   "cell_type": "markdown",
   "metadata": {},
   "source": [
    "Группировка выражений выполняется с поомощью операторов `(...)` и `|`."
   ]
  },
  {
   "cell_type": "code",
   "execution_count": 8,
   "metadata": {},
   "outputs": [
    {
     "data": {
      "text/plain": [
       "['the', 'fat', 'cat', 'the', 'mat']"
      ]
     },
     "execution_count": 8,
     "metadata": {},
     "output_type": "execute_result"
    }
   ],
   "source": [
    "# найти все слова из 3-х букв, начинающиеся или заканчивающиеся с символа t\n",
    "\n",
    "re.findall(r'\\b(t\\w\\w|\\w\\wt)\\b', 'the fat cat is on the mat')"
   ]
  },
  {
   "cell_type": "markdown",
   "metadata": {},
   "source": [
    "Кроме того, можно задавать длину строки, которую мы ищем:\n",
    "\n",
    "* `?` — предыдущий символ/группа может быть, а может не быть;\n",
    "* `+` — предыдущий символ/группа может повторяться 1 и более раз;\n",
    "* `*` — предыдущий символ/группа может повторяться 0 и более раз;\n",
    "* `{n,m}` — предыдущий символ/группа может повторяться от от n до m включительно;\n",
    "* `{n,}` — предыдущий символ/группа в скобках может повторяться n и более раз;\n",
    "* `{,m}` — предыдущий символ/группа может повторяться до m раз;\n",
    "* `{n}` — предыдущий символ/группа повторяется n раз."
   ]
  },
  {
   "cell_type": "code",
   "execution_count": 9,
   "metadata": {},
   "outputs": [
    {
     "data": {
      "text/plain": [
       "['is', 'on']"
      ]
     },
     "execution_count": 9,
     "metadata": {},
     "output_type": "execute_result"
    }
   ],
   "source": [
    "# найти все слова из 2-х букв, начинающиеся или заканчивающиеся с символа t\n",
    "\n",
    "re.findall(r'\\b\\w{2}\\b', 'the fat cat is on the mat')"
   ]
  },
  {
   "cell_type": "code",
   "execution_count": 10,
   "metadata": {},
   "outputs": [
    {
     "data": {
      "text/plain": [
       "['the', 'fat', 'cat', 'the', 'mat']"
      ]
     },
     "execution_count": 10,
     "metadata": {},
     "output_type": "execute_result"
    }
   ],
   "source": [
    "# найти все слова из 3-х букв, начинающиеся или заканчивающиеся с символа t\n",
    "\n",
    "re.findall(r'\\b(t\\w{2}|\\w{2}t)\\b', 'the fat cat is on the mat')"
   ]
  },
  {
   "cell_type": "markdown",
   "metadata": {},
   "source": [
    "### Еще несколько примеров"
   ]
  },
  {
   "cell_type": "markdown",
   "metadata": {},
   "source": [
    "Найти число с плавающей точкой"
   ]
  },
  {
   "cell_type": "code",
   "execution_count": 11,
   "metadata": {},
   "outputs": [
    {
     "data": {
      "text/plain": [
       "<re.Match object; span=(0, 3), match='123'>"
      ]
     },
     "execution_count": 11,
     "metadata": {},
     "output_type": "execute_result"
    }
   ],
   "source": [
    "re.search('\\d+(\\.\\d+)?', '123')"
   ]
  },
  {
   "cell_type": "code",
   "execution_count": 12,
   "metadata": {},
   "outputs": [
    {
     "data": {
      "text/plain": [
       "<re.Match object; span=(0, 4), match='12.3'>"
      ]
     },
     "execution_count": 12,
     "metadata": {},
     "output_type": "execute_result"
    }
   ],
   "source": [
    "re.search('\\d+(\\.\\d+)?', '12.3')"
   ]
  },
  {
   "cell_type": "code",
   "execution_count": 13,
   "metadata": {},
   "outputs": [
    {
     "data": {
      "text/plain": [
       "<re.Match object; span=(0, 2), match='12'>"
      ]
     },
     "execution_count": 13,
     "metadata": {},
     "output_type": "execute_result"
    }
   ],
   "source": [
    "re.search('\\d+(\\.\\d+)?', '12.')"
   ]
  },
  {
   "cell_type": "markdown",
   "metadata": {},
   "source": [
    "Определение языка: украинский или русский"
   ]
  },
  {
   "cell_type": "code",
   "execution_count": 14,
   "metadata": {},
   "outputs": [],
   "source": [
    "records = [\n",
    "    'Знову до справи: як отримати роботу після тривалої перерви',\n",
    "    'Гендерные «качели»: карьерные провалы и зарплатная недостаточность',\n",
    "    'Агроперспективні пропозиції на ринку праці: 15 актуальних вакансій',\n",
    "    'Переговори: як досягти бажаного результату?',\n",
    "    'Не досягненнями єдиними: як хобі допоможе отримати роботу',\n",
    "    'Работа в рекламе: три неочевидные профессии',\n",
    "]"
   ]
  },
  {
   "cell_type": "code",
   "execution_count": 15,
   "metadata": {},
   "outputs": [],
   "source": [
    "def is_ukraine(s):\n",
    "    is_ok = re.search(r'\\b[а-я]*[іїє][а-я]*\\b', s, flags=re.IGNORECASE) is not None\n",
    "    is_ok = is_ok or re.search(r'\\b(як|де)\\b', s, flags=re.IGNORECASE) is not None\n",
    "    return is_ok"
   ]
  },
  {
   "cell_type": "code",
   "execution_count": 16,
   "metadata": {},
   "outputs": [
    {
     "name": "stdout",
     "output_type": "stream",
     "text": [
      "True\tЗнову до справи: як отримати роботу після тривалої перерви\n",
      "False\tГендерные «качели»: карьерные провалы и зарплатная недостаточность\n",
      "True\tАгроперспективні пропозиції на ринку праці: 15 актуальних вакансій\n",
      "True\tПереговори: як досягти бажаного результату?\n",
      "True\tНе досягненнями єдиними: як хобі допоможе отримати роботу\n",
      "False\tРабота в рекламе: три неочевидные профессии\n"
     ]
    }
   ],
   "source": [
    "for s in records:\n",
    "    print(is_ukraine(s), s, sep='\\t')"
   ]
  },
  {
   "cell_type": "markdown",
   "metadata": {},
   "source": [
    "Удаление лишней обвязки"
   ]
  },
  {
   "cell_type": "code",
   "execution_count": 17,
   "metadata": {},
   "outputs": [
    {
     "name": "stdout",
     "output_type": "stream",
     "text": [
      "\n",
      "<script>\n",
      "    window._io_config = window._io_config || {};\n",
      "    window._io_config[\"0.2.0\"] = window._io_config[\"0.2.0\"] || [];\n",
      "    window._io_config[\"0.2.0\"].push({\n",
      "      page_url: window.location.href,\n",
      "      page_url_canonical: \"https://perito-burrito.com/posts/russia-2020\",\n",
      "      page_title: \"Как 2020 год навсегда изменит путешествия по России\",\n",
      "      page_type: \"article\",\n",
      "      page_language: \"en\",\n",
      "      article_authors: [\"Саша Воробьев\"],\n",
      "      article_categories: [\"Россия\",\"Советы\"],\n",
      "      article_word_count: \"1731\",\n",
      "      article_publication_date: \"Mon, 27 Jul 2020 10:04:08 +0000\"\n",
      "    });\n",
      "</script>\n",
      "\n"
     ]
    }
   ],
   "source": [
    "s = '''\n",
    "<script>\n",
    "    window._io_config = window._io_config || {};\n",
    "    window._io_config[\"0.2.0\"] = window._io_config[\"0.2.0\"] || [];\n",
    "    window._io_config[\"0.2.0\"].push({\n",
    "      page_url: window.location.href,\n",
    "      page_url_canonical: \"https://perito-burrito.com/posts/russia-2020\",\n",
    "      page_title: \"Как 2020 год навсегда изменит путешествия по России\",\n",
    "      page_type: \"article\",\n",
    "      page_language: \"en\",\n",
    "      article_authors: [\"Саша Воробьев\"],\n",
    "      article_categories: [\"Россия\",\"Советы\"],\n",
    "      article_word_count: \"1731\",\n",
    "      article_publication_date: \"Mon, 27 Jul 2020 10:04:08 +0000\"\n",
    "    });\n",
    "</script>\n",
    "'''\n",
    "\n",
    "print(s)"
   ]
  },
  {
   "cell_type": "code",
   "execution_count": 18,
   "metadata": {},
   "outputs": [
    {
     "name": "stdout",
     "output_type": "stream",
     "text": [
      "      page_url: window.location.href,\n",
      "      page_url_canonical: \"https://perito-burrito.com/posts/russia-2020\",\n",
      "      page_title: \"Как 2020 год навсегда изменит путешествия по России\",\n",
      "      page_type: \"article\",\n",
      "      page_language: \"en\",\n",
      "      article_authors: [\"Саша Воробьев\"],\n",
      "      article_categories: [\"Россия\",\"Советы\"],\n",
      "      article_word_count: \"1731\",\n",
      "      article_publication_date: \"Mon, 27 Jul 2020 10:04:08 +0000\"\n",
      "    \n"
     ]
    }
   ],
   "source": [
    "r = re.search(r'push\\((.*?)\\);', s, flags=re.DOTALL).group(1)\n",
    "r = r.strip('\\n{}')\n",
    "\n",
    "print(r)"
   ]
  },
  {
   "cell_type": "markdown",
   "metadata": {},
   "source": [
    "# Структура URL"
   ]
  },
  {
   "cell_type": "markdown",
   "metadata": {},
   "source": [
    "http://www.example.com:80/path/to/myfile.html?key1=value1&key2=value2#SomewhereInTheDocument\n",
    "\n",
    "<img width='480px' src=\"https://mdn.mozillademos.org/files/8013/mdn-url-protocol@x2.png\"></img>\n",
    "<img width='480px' src=\"https://mdn.mozillademos.org/files/8015/mdn-url-protocol@x2.png\"></img>\n",
    "<img width='480px' src=\"https://mdn.mozillademos.org/files/8017/mdn-url-protocol@x2.png\"></img>\n",
    "<img width='480px' src=\"https://mdn.mozillademos.org/files/8019/mdn-url-protocol@x2.png\"></img>\n",
    "<img width='480px' src=\"https://mdn.mozillademos.org/files/8021/mdn-url-protocol@x2.png\"></img>\n",
    "<img width='480px' src=\"https://mdn.mozillademos.org/files/8023/mdn-url-protocol@x2.png\"></img>\n",
    "\n",
    "https://developer.mozilla.org/ru/docs/Learn/Understanding_URLs"
   ]
  },
  {
   "cell_type": "code",
   "execution_count": 19,
   "metadata": {},
   "outputs": [
    {
     "data": {
      "text/plain": [
       "ParseResult(scheme='http', netloc='www.example.com:80', path='/path/to/myfile.html', params='', query='key1=value1&key2=value2', fragment='SomewhereInTheDocument')"
      ]
     },
     "execution_count": 19,
     "metadata": {},
     "output_type": "execute_result"
    }
   ],
   "source": [
    "from urllib.parse import urlparse, parse_qsl, parse_qs\n",
    "\n",
    "url = \"http://www.example.com:80/path/to/myfile.html?key1=value1&key2=value2#SomewhereInTheDocument\"\n",
    "url_parsed = urlparse(url)\n",
    "url_parsed"
   ]
  },
  {
   "cell_type": "code",
   "execution_count": 20,
   "metadata": {},
   "outputs": [
    {
     "data": {
      "text/plain": [
       "'/path/to/myfile.html'"
      ]
     },
     "execution_count": 20,
     "metadata": {},
     "output_type": "execute_result"
    }
   ],
   "source": [
    "url_parsed.path"
   ]
  },
  {
   "cell_type": "code",
   "execution_count": 21,
   "metadata": {},
   "outputs": [
    {
     "data": {
      "text/plain": [
       "{'key1': 'value1', 'key2': 'value2'}"
      ]
     },
     "execution_count": 21,
     "metadata": {},
     "output_type": "execute_result"
    }
   ],
   "source": [
    "dict(parse_qsl(url_parsed.query))"
   ]
  },
  {
   "cell_type": "markdown",
   "metadata": {},
   "source": [
    "# Типы HTTP запросов и ответов"
   ]
  },
  {
   "cell_type": "markdown",
   "metadata": {},
   "source": [
    "<img width='500px' src=\"images/swagger-petstore-endpoint-methods.png\"></img>"
   ]
  },
  {
   "cell_type": "markdown",
   "metadata": {},
   "source": [
    "<img width='800px' src=\"images/responses.jpg\"></img>"
   ]
  },
  {
   "cell_type": "markdown",
   "metadata": {},
   "source": [
    "Табличка с типами ответов: [клац раз](https://www.steveschoger.com/status-code-poster/img/status-code.png) и [клац два](https://ru.wikipedia.org/wiki/%D0%A1%D0%BF%D0%B8%D1%81%D0%BE%D0%BA_%D0%BA%D0%BE%D0%B4%D0%BE%D0%B2_%D1%81%D0%BE%D1%81%D1%82%D0%BE%D1%8F%D0%BD%D0%B8%D1%8F_HTTP)."
   ]
  },
  {
   "cell_type": "markdown",
   "metadata": {},
   "source": [
    "[Документация](http://docs.python-requests.org/) по библиотеке requests."
   ]
  },
  {
   "cell_type": "code",
   "execution_count": 22,
   "metadata": {},
   "outputs": [],
   "source": [
    "import requests"
   ]
  },
  {
   "cell_type": "markdown",
   "metadata": {},
   "source": [
    "Пример: [oshi.at](https://oshi.at/) (аналог transfer.sh)"
   ]
  },
  {
   "cell_type": "code",
   "execution_count": 23,
   "metadata": {},
   "outputs": [
    {
     "data": {
      "text/plain": [
       "<Response [200]>"
      ]
     },
     "execution_count": 23,
     "metadata": {},
     "output_type": "execute_result"
    }
   ],
   "source": [
    "r_put = requests.put('https://oshi.at/arg.txt', data='Bonjour le monde!')\n",
    "r_put"
   ]
  },
  {
   "cell_type": "code",
   "execution_count": 24,
   "metadata": {},
   "outputs": [
    {
     "data": {
      "text/plain": [
       "(True, 200)"
      ]
     },
     "execution_count": 24,
     "metadata": {},
     "output_type": "execute_result"
    }
   ],
   "source": [
    "r_put.ok, r_put.status_code"
   ]
  },
  {
   "cell_type": "code",
   "execution_count": 25,
   "metadata": {
    "scrolled": true
   },
   "outputs": [
    {
     "name": "stdout",
     "output_type": "stream",
     "text": [
      "\r\n",
      "https://oshi.at/a/3faac9a3bb558328e46c99a48968c7e9c88c6b87 [Admin]\r\n",
      "https://oshi.at/BWswHg [CDN download]\r\n",
      "https://oshi.at/BWswHg [Direct IP download]\r\n",
      "http://oshiatwowvdbshka.onion/BWswHg [Tor download]\r\n",
      "\r\n",
      "\n"
     ]
    }
   ],
   "source": [
    "print(r_put.text)"
   ]
  },
  {
   "cell_type": "code",
   "execution_count": 26,
   "metadata": {},
   "outputs": [
    {
     "data": {
      "text/plain": [
       "<Response [404]>"
      ]
     },
     "execution_count": 26,
     "metadata": {},
     "output_type": "execute_result"
    }
   ],
   "source": [
    "r_get = requests.get('https://oshi.at/hxcRXY')\n",
    "r_get"
   ]
  },
  {
   "cell_type": "code",
   "execution_count": 27,
   "metadata": {},
   "outputs": [
    {
     "data": {
      "text/plain": [
       "'<!DOCTYPE html>\\n<html lang=\"en\">\\n\\n<head>\\n\\n  <meta charset=\"utf-8\">\\n  <meta name=\"viewport\" content=\"width=device-width, initial-scale=1, shrink-to-fit=no\">\\n  <meta name=\"description\" content=\"Secure file sharing. Encrypted server. No logs. TCP and Curl uploads.\">\\n  <meta name=\"author\" content=\"Undisclosed\">\\n\\n  <title>O shi-, 404</title>\\n\\n  <link href=\"/static/vendor/bootstrap/css/bootstrap.min.css\" rel=\"stylesheet\">\\n  <link href=\"/static/css/main.css\" rel=\"stylesheet\">\\n  <script async type=\"text/javascript\" src=\"/minified.js\"></script>\\n\\n</head>\\n\\n<body>\\n\\n  <nav class=\"navbar navbar-expand-sm fixed-bottom navbar-inverse navbar-light bg-transparent\">\\n    <div class=\"container\">\\n      <button class=\"navbar-toggler\" type=\"button\" data-toggle=\"collapse\" data-target=\"#navbarResponsive\" aria-controls=\"navbarResponsive\" aria-expanded=\"false\" aria-label=\"Toggle navigation\">\\n        <span class=\"navbar-toggler-icon\"></span>\\n      </button>\\n      <div class=\"collapse navbar-collapse\" id=\"navbarResponsive\">\\n        <ul class=\"navbar-nav ml-auto\">\\n          <li class=\"nav-item\">\\n            <a class=\"nav-link\" href=\"/\">Oshi</a>\\n          </li>\\n          <li class=\"nav-item\">\\n            <a class=\"nav-link\" href=\"/cmd\">Command-line interface</a>\\n          </li>\\n          <li class=\"nav-item\">\\n            <a class=\"nav-link\" href=\"/sharex\">ShareX</a>\\n          </li>\\n          <li class=\"nav-item\">\\n            <a target=\"_blank\" class=\"nav-link\" href=\"https://github.com/somenonymous/OshiUpload\">Github</a>\\n          </li>\\n          <li class=\"nav-item\">\\n            <a class=\"nav-link\" href=\"/abuse\">Abuse</a>\\n          </li>\\n        </ul>\\n      </div>\\n    </div>\\n  </nav>\\n\\n\\n\\n\\t\\n<div class=\"notfoundbg\"></div>\\n<h3 class=\"text-center\">File not found</h3>\\n\\n\\n</body>\\n\\n</html>\\n'"
      ]
     },
     "execution_count": 27,
     "metadata": {},
     "output_type": "execute_result"
    }
   ],
   "source": [
    "r_get.text"
   ]
  },
  {
   "cell_type": "markdown",
   "metadata": {},
   "source": [
    "Пример: [controlc.com](https://controlc.com/) (аналог pastebin.com)"
   ]
  },
  {
   "cell_type": "code",
   "execution_count": 28,
   "metadata": {},
   "outputs": [
    {
     "data": {
      "text/plain": [
       "<Response [200]>"
      ]
     },
     "execution_count": 28,
     "metadata": {},
     "output_type": "execute_result"
    }
   ],
   "source": [
    "page = requests.post('https://controlc.com/index.php?act=submit', data={\n",
    "    'subdomain': '',\n",
    "    'antispam': 1,\n",
    "    'website': '',\n",
    "    'paste_title': 'Заметка',\n",
    "    'input_text': 'Привет, Техносфера!',\n",
    "    'timestamp': 'ba68753935524ba7096650590c86633b',\n",
    "    'paste_password': '',\n",
    "    'code': 0,\n",
    "}, headers={'accept-encoding': 'identity', 'referer': 'https://controlc.com/'})\n",
    "page"
   ]
  },
  {
   "cell_type": "code",
   "execution_count": 29,
   "metadata": {},
   "outputs": [
    {
     "name": "stdout",
     "output_type": "stream",
     "text": [
      "\n"
     ]
    }
   ],
   "source": [
    "from lxml import html as lhtml\n",
    "\n",
    "tree = lhtml.fromstring(page.text)\n",
    "urls = tree.xpath('//a[text()=\"Paste submitted successfully! (view)\"]/attribute::href')\n",
    "print(*urls)"
   ]
  },
  {
   "cell_type": "markdown",
   "metadata": {},
   "source": [
    "# Работа с JSON"
   ]
  },
  {
   "cell_type": "code",
   "execution_count": 30,
   "metadata": {},
   "outputs": [],
   "source": [
    "import json"
   ]
  },
  {
   "cell_type": "markdown",
   "metadata": {},
   "source": [
    "prepare token: https://developer.spotify.com/console/get-track/?id=3n3Ppam7vgaVa1iaRUc9Lp"
   ]
  },
  {
   "cell_type": "code",
   "execution_count": 31,
   "metadata": {},
   "outputs": [
    {
     "data": {
      "text/plain": [
       "401"
      ]
     },
     "execution_count": 31,
     "metadata": {},
     "output_type": "execute_result"
    }
   ],
   "source": [
    "with open('spotify-api-token.key', mode='r') as f_key:\n",
    "    spotify_api_token = f_key.readline().strip()\n",
    "    \n",
    "\n",
    "class SpotifyAPI:    \n",
    "    def __init__(self, token):\n",
    "        self._token = token\n",
    "\n",
    "    def get_track_info(self, track_id, market='US'):\n",
    "        # посылаем get запрос, указываем аргументы и заголовки\n",
    "        ret = requests.get(\"https://api.spotify.com/v1/tracks/{}\".format(track_id),\n",
    "                           params={'market': market,},\n",
    "                           headers={'Authorization': f'Bearer {self._token}'})\n",
    "        return ret\n",
    "\n",
    "\n",
    "spotify = SpotifyAPI(spotify_api_token)\n",
    "r = spotify.get_track_info('7gVGBGI4ZqvkYBlh2LdrQy', market='RU')\n",
    "r.status_code"
   ]
  },
  {
   "cell_type": "code",
   "execution_count": 32,
   "metadata": {
    "scrolled": false
   },
   "outputs": [
    {
     "name": "stdout",
     "output_type": "stream",
     "text": [
      "{\n",
      "  \"error\": {\n",
      "    \"status\": 401,\n",
      "    \"message\": \"The access token expired\"\n",
      "  }\n",
      "}\n"
     ]
    }
   ],
   "source": [
    "print(r.text)"
   ]
  },
  {
   "cell_type": "code",
   "execution_count": 33,
   "metadata": {},
   "outputs": [
    {
     "data": {
      "text/plain": [
       "dict"
      ]
     },
     "execution_count": 33,
     "metadata": {},
     "output_type": "execute_result"
    }
   ],
   "source": [
    "answer = json.loads(r.text)\n",
    "type(answer)"
   ]
  },
  {
   "cell_type": "code",
   "execution_count": 34,
   "metadata": {},
   "outputs": [
    {
     "data": {
      "text/plain": [
       "dict"
      ]
     },
     "execution_count": 34,
     "metadata": {},
     "output_type": "execute_result"
    }
   ],
   "source": [
    "answer = r.json()\n",
    "type(answer)"
   ]
  },
  {
   "cell_type": "code",
   "execution_count": 35,
   "metadata": {},
   "outputs": [
    {
     "ename": "KeyError",
     "evalue": "'artists'",
     "output_type": "error",
     "traceback": [
      "\u001b[0;31m---------------------------------------------------------------------------\u001b[0m",
      "\u001b[0;31mKeyError\u001b[0m                                  Traceback (most recent call last)",
      "\u001b[0;32m<ipython-input-35-fb057d87def9>\u001b[0m in \u001b[0;36m<module>\u001b[0;34m\u001b[0m\n\u001b[1;32m      1\u001b[0m answer_cut = {\n\u001b[0;32m----> 2\u001b[0;31m     \u001b[0;34m'artist'\u001b[0m\u001b[0;34m:\u001b[0m   \u001b[0manswer\u001b[0m\u001b[0;34m[\u001b[0m\u001b[0;34m'artists'\u001b[0m\u001b[0;34m]\u001b[0m\u001b[0;34m[\u001b[0m\u001b[0;36m0\u001b[0m\u001b[0;34m]\u001b[0m\u001b[0;34m[\u001b[0m\u001b[0;34m'name'\u001b[0m\u001b[0;34m]\u001b[0m\u001b[0;34m,\u001b[0m\u001b[0;34m\u001b[0m\u001b[0;34m\u001b[0m\u001b[0m\n\u001b[0m\u001b[1;32m      3\u001b[0m     \u001b[0;34m'name'\u001b[0m\u001b[0;34m:\u001b[0m     \u001b[0manswer\u001b[0m\u001b[0;34m[\u001b[0m\u001b[0;34m'name'\u001b[0m\u001b[0;34m]\u001b[0m\u001b[0;34m,\u001b[0m\u001b[0;34m\u001b[0m\u001b[0;34m\u001b[0m\u001b[0m\n\u001b[1;32m      4\u001b[0m     \u001b[0;34m'duration'\u001b[0m\u001b[0;34m:\u001b[0m \u001b[0manswer\u001b[0m\u001b[0;34m[\u001b[0m\u001b[0;34m'duration_ms'\u001b[0m\u001b[0;34m]\u001b[0m \u001b[0;34m/\u001b[0m \u001b[0;36m1000.0\u001b[0m\u001b[0;34m,\u001b[0m\u001b[0;34m\u001b[0m\u001b[0;34m\u001b[0m\u001b[0m\n\u001b[1;32m      5\u001b[0m     \u001b[0;34m'href'\u001b[0m\u001b[0;34m:\u001b[0m     \u001b[0manswer\u001b[0m\u001b[0;34m[\u001b[0m\u001b[0;34m'href'\u001b[0m\u001b[0;34m]\u001b[0m\u001b[0;34m,\u001b[0m\u001b[0;34m\u001b[0m\u001b[0;34m\u001b[0m\u001b[0m\n",
      "\u001b[0;31mKeyError\u001b[0m: 'artists'"
     ]
    }
   ],
   "source": [
    "answer_cut = {\n",
    "    'artist':   answer['artists'][0]['name'],\n",
    "    'name':     answer['name'],\n",
    "    'duration': answer['duration_ms'] / 1000.0,\n",
    "    'href':     answer['href'],\n",
    "    'id':       answer['id'],\n",
    "    'preview':  answer['preview_url'],\n",
    "}\n",
    "answer_cut"
   ]
  },
  {
   "cell_type": "code",
   "execution_count": null,
   "metadata": {},
   "outputs": [],
   "source": [
    "filename = urlparse(answer_cut['preview']).path.rsplit('/', 1)[-1] + '.mp3'\n",
    "\n",
    "# NOTE: используем атрибут content для бинарных данных\n",
    "\n",
    "with open(filename, 'wb') as f:\n",
    "    data = requests.get(answer_cut['preview']).content\n",
    "    f.write(data)\n",
    "    \n",
    "print(filename)"
   ]
  },
  {
   "cell_type": "code",
   "execution_count": null,
   "metadata": {},
   "outputs": [],
   "source": [
    "import IPython.display as ipd\n",
    "\n",
    "ipd.Audio(filename) "
   ]
  },
  {
   "cell_type": "code",
   "execution_count": null,
   "metadata": {},
   "outputs": [],
   "source": [
    "# компактно сериализуем json в строку\n",
    "\n",
    "json.dumps(answer_cut)"
   ]
  },
  {
   "cell_type": "code",
   "execution_count": null,
   "metadata": {},
   "outputs": [],
   "source": [
    "# pretty print для json\n",
    "\n",
    "print(json.dumps(answer_cut, indent=4, sort_keys=True))"
   ]
  },
  {
   "cell_type": "code",
   "execution_count": null,
   "metadata": {},
   "outputs": [],
   "source": [
    "with open('/tmp/answer_cut.json', mode='w') as f_json:\n",
    "    json.dump(answer_cut, f_json)"
   ]
  },
  {
   "cell_type": "code",
   "execution_count": null,
   "metadata": {},
   "outputs": [],
   "source": [
    "with open('/tmp/answer_cut.json', mode='r') as f_json:\n",
    "    answer_cut = json.load(f_json)\n",
    "\n",
    "answer_cut"
   ]
  },
  {
   "cell_type": "code",
   "execution_count": null,
   "metadata": {},
   "outputs": [],
   "source": [
    "!cat /tmp/answer_cut.json"
   ]
  },
  {
   "cell_type": "code",
   "execution_count": null,
   "metadata": {},
   "outputs": [],
   "source": [
    "!cat /tmp/answer_cut.json | python -m json.tool"
   ]
  },
  {
   "cell_type": "code",
   "execution_count": null,
   "metadata": {},
   "outputs": [],
   "source": [
    "!cat /tmp/answer_cut.json | jq ."
   ]
  },
  {
   "cell_type": "markdown",
   "metadata": {},
   "source": [
    "## А можно ли как-то ускорить процесс обкачки?"
   ]
  },
  {
   "cell_type": "markdown",
   "metadata": {},
   "source": [
    "<span style=\"color:blue;font-weight:bold\">Вопрос:</span> какая разница между процессами и потоками (threads)?"
   ]
  },
  {
   "cell_type": "markdown",
   "metadata": {},
   "source": [
    "Глобальная блокировка интерпретатора ( global interpreter lock , **GIL** ) Python. Если два или более потока попытаются манипулировать одним и тем же объектом в одно и то же время, то неизбежно возникнут проблемы. Глобальная блокировка интерпретатора исправляет это. В любой момент времени действия может выполнять только один поток. Python автоматически переключается между потоками, когда в этом возникает необходимость.\n",
    "\n",
    "GIL в Python реализован как обычный lock."
   ]
  },
  {
   "cell_type": "markdown",
   "metadata": {},
   "source": [
    "Скачивание данных через библиотеку requsets – I/O операция, поэтому большую часть времени процессор не выполняет никаких задач, потому что ждёт, пока данные придут по сети."
   ]
  },
  {
   "cell_type": "code",
   "execution_count": null,
   "metadata": {},
   "outputs": [],
   "source": [
    "from tqdm.notebook import tqdm"
   ]
  },
  {
   "cell_type": "code",
   "execution_count": null,
   "metadata": {},
   "outputs": [],
   "source": [
    "%%time\n",
    "\n",
    "n_post_first, n_post_final = 349000, 349200\n",
    "\n",
    "pages = [requests.get('https://habr.com/post/{}/'.format(post_id))\n",
    "         for post_id in tqdm(range(n_post_first, n_post_final, 2))]"
   ]
  },
  {
   "cell_type": "code",
   "execution_count": null,
   "metadata": {},
   "outputs": [],
   "source": [
    "from multiprocessing.dummy import Pool as ThreadPool"
   ]
  },
  {
   "cell_type": "code",
   "execution_count": null,
   "metadata": {},
   "outputs": [],
   "source": [
    "%%time\n",
    "\n",
    "n_post_first, n_post_final = 349000, 349200\n",
    "\n",
    "def get_habr_post(post_id):\n",
    "    return requests.get('https://habrahabr.ru/post/{}/'.format(post_id))\n",
    "\n",
    "with ThreadPool(10) as pool:\n",
    "    pages = pool.map(get_habr_post, range(n_post_first, n_post_final, 2))\n",
    "\n",
    "pool.join()   # same as wait pid"
   ]
  },
  {
   "cell_type": "code",
   "execution_count": null,
   "metadata": {},
   "outputs": [],
   "source": [
    "from multiprocessing import Pool"
   ]
  },
  {
   "cell_type": "code",
   "execution_count": null,
   "metadata": {},
   "outputs": [],
   "source": [
    "%%time\n",
    "\n",
    "n_post_first, n_post_final = 349000, 349200\n",
    "\n",
    "def get_habr_post(post_id):\n",
    "    return requests.get('https://habrahabr.ru/post/{}/'.format(post_id))\n",
    "\n",
    "with Pool(processes=10) as pool:\n",
    "    pages = pool.map(get_habr_post, range(n_post_first, n_post_final, 2))\n",
    "\n",
    "pool.join()   # same as wait pid"
   ]
  },
  {
   "cell_type": "markdown",
   "metadata": {},
   "source": [
    "# robots.txt и sitemap.xml\n",
    "\n",
    "1. Валидаторы:\n",
    "    * https://webmaster.yandex.ru/tools/robotstxt/\n",
    "    * https://technicalseo.com/seo-tools/robots-txt/\n",
    "2. Все о robots.txt:\n",
    "    * https://help.mail.ru/webmaster/indexing/robots.txt\n",
    "    * https://yandex.ru/support/webmaster/controlling-robot/\n",
    "    \n",
    "**Пример 1:** https://tproger.ru/robots.txt\n",
    "\n",
    "**Пример 2:** https://tjournal.ru/robots.txt"
   ]
  },
  {
   "cell_type": "markdown",
   "metadata": {},
   "source": [
    "# Парсинг HTML-страничек"
   ]
  },
  {
   "cell_type": "markdown",
   "metadata": {},
   "source": [
    "<img width='800px' src=\"https://q-bit.biz/uploads/article/Tegs_1539003896.png\"></img>"
   ]
  },
  {
   "cell_type": "markdown",
   "metadata": {},
   "source": [
    "Example: https://www.kinopoisk.ru/film/689066/"
   ]
  },
  {
   "cell_type": "markdown",
   "metadata": {},
   "source": [
    "## lxml\n",
    "\n",
    "<img width = '250px' src=\"images/lxml.png\">\n",
    "\n",
    "https://lxml.de/tutorial.html"
   ]
  },
  {
   "cell_type": "code",
   "execution_count": null,
   "metadata": {},
   "outputs": [],
   "source": [
    "from lxml import etree, html as lhtml"
   ]
  },
  {
   "cell_type": "code",
   "execution_count": null,
   "metadata": {},
   "outputs": [],
   "source": [
    "tree = lhtml.fromstring(open('data/689066_2.html', 'r').read())"
   ]
  },
  {
   "cell_type": "markdown",
   "metadata": {},
   "source": [
    "Так как html и xml имеют древовидную структуру, до любого элемента всегда существет единственный путь, XPath.\n",
    "\n",
    "https://www.w3schools.com/xml/xpath_intro.asp\n",
    "\n",
    "```bash\n",
    "pip install cssselect   # для подержки CSS селекторов\n",
    "```"
   ]
  },
  {
   "cell_type": "code",
   "execution_count": null,
   "metadata": {},
   "outputs": [],
   "source": [
    "film_info = {\n",
    "    'title': tree.xpath('//h1[@itemprop=\"name\"]/span/text()')[0],\n",
    "    'title-original': tree.xpath('//span[starts-with(@class, \"styles_originalTitle__\")]')[0].text,\n",
    "    'rating': float(tree.cssselect('a.film-rating-value')[0].text),   # поддержка CSS-селекторов\n",
    "#     'rating': float(tree.xpath('//a[contains(@class, \"film-rating-value\")]/text()')[0])\n",
    "}\n",
    "\n",
    "film_info"
   ]
  },
  {
   "cell_type": "markdown",
   "metadata": {},
   "source": [
    "Найдем ссылку на просмотр фильма."
   ]
  },
  {
   "cell_type": "code",
   "execution_count": null,
   "metadata": {},
   "outputs": [],
   "source": [
    "watch = tree.xpath('//a[contains(@class, \"kinopoisk-watch-online-button\")]/attribute::href')\n",
    "watch"
   ]
  },
  {
   "cell_type": "code",
   "execution_count": null,
   "metadata": {},
   "outputs": [],
   "source": [
    "film_info['watch'] = watch\n",
    "film_info"
   ]
  },
  {
   "cell_type": "markdown",
   "metadata": {},
   "source": [
    "Вытащим ссылки на постеры."
   ]
  },
  {
   "cell_type": "code",
   "execution_count": null,
   "metadata": {},
   "outputs": [],
   "source": [
    "image = tree.xpath('//img[contains(@class, \"film-poster\")]//attribute::srcset')\n",
    "image"
   ]
  },
  {
   "cell_type": "code",
   "execution_count": null,
   "metadata": {},
   "outputs": [],
   "source": [
    "image = tree.xpath('//img[contains(@class, \"film-poster\")]//attribute::srcset')[0]\n",
    "image = image.split(', ')\n",
    "image = ['https:' + img.split(' ', 1)[0] for img in image]\n",
    "image"
   ]
  },
  {
   "cell_type": "code",
   "execution_count": null,
   "metadata": {},
   "outputs": [],
   "source": [
    "film_info['posters'] = image\n",
    "film_info"
   ]
  },
  {
   "cell_type": "markdown",
   "metadata": {},
   "source": [
    "Распарсим описание фильма."
   ]
  },
  {
   "cell_type": "code",
   "execution_count": null,
   "metadata": {},
   "outputs": [],
   "source": [
    "info_desc = tree.xpath('//div[starts-with(@class, \"styles_synopsisSection\")]//text()')\n",
    "info_desc"
   ]
  },
  {
   "cell_type": "code",
   "execution_count": null,
   "metadata": {},
   "outputs": [],
   "source": [
    "info_desc = tree.xpath('//div[starts-with(@class, \"styles_synopsisSection\")]//text()')\n",
    "\n",
    "film_info['description'] = '\\n'.join(info_desc)\n",
    "film_info"
   ]
  },
  {
   "cell_type": "markdown",
   "metadata": {},
   "source": [
    "## Beautiful Soup\n",
    "https://www.crummy.com/software/BeautifulSoup/bs4/doc/"
   ]
  },
  {
   "cell_type": "markdown",
   "metadata": {},
   "source": [
    "<img width = '330px' src=\"images/bsoup.jpg\">"
   ]
  },
  {
   "cell_type": "code",
   "execution_count": null,
   "metadata": {},
   "outputs": [],
   "source": [
    "from bs4 import BeautifulSoup"
   ]
  },
  {
   "cell_type": "code",
   "execution_count": null,
   "metadata": {},
   "outputs": [],
   "source": [
    "soup = BeautifulSoup(open('data/689066_2.html', 'r').read(), 'html.parser')"
   ]
  },
  {
   "cell_type": "code",
   "execution_count": null,
   "metadata": {},
   "outputs": [],
   "source": [
    "soup = BeautifulSoup(open('data/689066_2.html', 'r').read(), 'lxml')"
   ]
  },
  {
   "cell_type": "code",
   "execution_count": null,
   "metadata": {},
   "outputs": [],
   "source": [
    "from operator import attrgetter, itemgetter"
   ]
  },
  {
   "cell_type": "markdown",
   "metadata": {},
   "source": [
    "### Соберем основную информацию о фильме"
   ]
  },
  {
   "cell_type": "code",
   "execution_count": null,
   "metadata": {},
   "outputs": [],
   "source": [
    "film_info = {\n",
    "    'title': soup.find('h1', itemprop='name').find('span').text,\n",
    "    'title-original': soup.find('span', class_=lambda s: s and s.startswith('styles_originalTitle__')).text,\n",
    "    'rating': float(soup.select_one('a.film-rating-value').text)   # поддержка CSS-селекторов\n",
    "}\n",
    "\n",
    "film_info"
   ]
  },
  {
   "cell_type": "code",
   "execution_count": null,
   "metadata": {},
   "outputs": [],
   "source": [
    "desc = soup.find('div', itemprop='description')\n",
    "desc = soup.find('div', class_=lambda s: s and s.startswith(\"styles_synopsisSection\")).find_all('p')\n",
    "desc"
   ]
  },
  {
   "cell_type": "code",
   "execution_count": null,
   "metadata": {},
   "outputs": [],
   "source": [
    "desc[0].text"
   ]
  },
  {
   "cell_type": "code",
   "execution_count": null,
   "metadata": {},
   "outputs": [],
   "source": [
    "film_info['description'] = '\\n'.join(map(attrgetter('text'), desc))\n",
    "film_info"
   ]
  },
  {
   "cell_type": "markdown",
   "metadata": {},
   "source": [
    "### Извлечем таблицу"
   ]
  },
  {
   "cell_type": "code",
   "execution_count": null,
   "metadata": {},
   "outputs": [],
   "source": [
    "import pandas as pd"
   ]
  },
  {
   "cell_type": "code",
   "execution_count": null,
   "metadata": {},
   "outputs": [],
   "source": [
    "header = soup.find('h3', class_=\"film-page-section-title\")\n",
    "table = header.next_sibling\n",
    "rows = table.find_all('div', recursive=False)\n",
    "\n",
    "len(rows)"
   ]
  },
  {
   "cell_type": "code",
   "execution_count": null,
   "metadata": {},
   "outputs": [],
   "source": [
    "data = []\n",
    "\n",
    "for row in rows:\n",
    "    cols = map(lambda x: x.text, row.find_all('div'))\n",
    "    data.append(cols)\n",
    "\n",
    "data = pd.DataFrame(data)\n",
    "data"
   ]
  },
  {
   "cell_type": "markdown",
   "metadata": {},
   "source": [
    "Пример с таблицей и pandas"
   ]
  },
  {
   "cell_type": "code",
   "execution_count": null,
   "metadata": {},
   "outputs": [],
   "source": [
    "import requests\n",
    "\n",
    "page = requests.get(\n",
    "    'https://www.championat.com/football/_russiapl/tournament/2973/statistic/player/bombardir/',\n",
    "    headers={\n",
    "        'User-Agent': 'Mozilla/5.0 (Macintosh; Intel Mac OS X 10.14; rv:82.0) Gecko/20100101 Firefox/82.0', \n",
    "    },\n",
    ")\n",
    "page"
   ]
  },
  {
   "cell_type": "code",
   "execution_count": null,
   "metadata": {},
   "outputs": [],
   "source": [
    "pd.read_html(page.text)[0].head()"
   ]
  },
  {
   "cell_type": "markdown",
   "metadata": {},
   "source": [
    "### Пройдемся по спискам актеров..."
   ]
  },
  {
   "cell_type": "code",
   "execution_count": null,
   "metadata": {},
   "outputs": [],
   "source": [
    "actors, actors_dub = soup.find(class_=\"film-crew-block\").find_all('div', {'data-tid': True})\n",
    "actors, actors_dub = map(lambda s: s.find('ul'), [actors, actors_dub])"
   ]
  },
  {
   "cell_type": "code",
   "execution_count": null,
   "metadata": {},
   "outputs": [],
   "source": [
    "[row.text for row in actors.children]"
   ]
  },
  {
   "cell_type": "code",
   "execution_count": null,
   "metadata": {},
   "outputs": [],
   "source": [
    "[row.text for row in actors_dub.children]"
   ]
  },
  {
   "cell_type": "markdown",
   "metadata": {},
   "source": [
    "### Обкачаем картинки"
   ]
  },
  {
   "cell_type": "markdown",
   "metadata": {},
   "source": [
    "https://www.kinopoisk.ru/film/689066/stills/"
   ]
  },
  {
   "cell_type": "code",
   "execution_count": null,
   "metadata": {},
   "outputs": [],
   "source": [
    "soup = BeautifulSoup(open('data/689066_stills_2.html', 'r').read(), 'html.parser')"
   ]
  },
  {
   "cell_type": "code",
   "execution_count": null,
   "metadata": {},
   "outputs": [],
   "source": [
    "list(map(lambda s: s.attrs['src'], soup.find('table', class_='fotos').find_all(\"img\")))[:10]"
   ]
  },
  {
   "cell_type": "markdown",
   "metadata": {},
   "source": [
    "# О проблемах..."
   ]
  },
  {
   "cell_type": "markdown",
   "metadata": {},
   "source": [
    "## Кодировки"
   ]
  },
  {
   "cell_type": "code",
   "execution_count": null,
   "metadata": {},
   "outputs": [],
   "source": [
    "page = requests.get('https://www.povarenok.ru/recipes/show/163694/')"
   ]
  },
  {
   "cell_type": "code",
   "execution_count": null,
   "metadata": {},
   "outputs": [],
   "source": [
    "print(page.content.decode('utf8')[:315])"
   ]
  },
  {
   "cell_type": "code",
   "execution_count": null,
   "metadata": {},
   "outputs": [],
   "source": [
    "print(page.content.decode('cp1251')[:315])"
   ]
  },
  {
   "cell_type": "code",
   "execution_count": null,
   "metadata": {},
   "outputs": [],
   "source": [
    "print(page.text[:315])"
   ]
  },
  {
   "cell_type": "markdown",
   "metadata": {},
   "source": [
    "<img width='800px' src=\"https://w3techs.com/diagram/history_overview/character_encoding/ms/y\">\n",
    "\n",
    "https://w3techs.com/technologies/history_overview/character_encoding/ms/y"
   ]
  },
  {
   "cell_type": "markdown",
   "metadata": {},
   "source": [
    "Обычно информация о кодировке расположена здесь:\n",
    "\n",
    "```html\n",
    "<meta http-equiv=\"Content-Type\" content=\"text/html; charset=windows-1251\">\n",
    "\n",
    "<meta charset=\"windows-1251\">\n",
    "```"
   ]
  },
  {
   "cell_type": "markdown",
   "metadata": {},
   "source": [
    "## Заголовки"
   ]
  },
  {
   "cell_type": "markdown",
   "metadata": {},
   "source": [
    "https://www.dafont.com/"
   ]
  },
  {
   "cell_type": "code",
   "execution_count": null,
   "metadata": {},
   "outputs": [],
   "source": [
    "page = requests.get('https://www.dafont.com/')\n",
    "\n",
    "len(page.content)"
   ]
  },
  {
   "cell_type": "markdown",
   "metadata": {},
   "source": [
    "Библиотека для подстановки UserAgent: https://pypi.org/project/fake-useragent/\n",
    "\n",
    "Что у меня за браузер: https://developers.whatismybrowser.com/useragents/parse/?analyse-my-user-agent=yes"
   ]
  },
  {
   "cell_type": "code",
   "execution_count": null,
   "metadata": {},
   "outputs": [],
   "source": [
    "headers = {'user-agent': 'Mozilla/5.0 (Macintosh; Intel Mac OS X 10_14_6)'\n",
    "                         'AppleWebKit/605.1.15 (KHTML, like Gecko) Version/13.0.1 Safari/605.1.15'}\n",
    "page = requests.get('https://www.dafont.com/', headers=headers)\n",
    "\n",
    "len(page.content)"
   ]
  },
  {
   "cell_type": "markdown",
   "metadata": {},
   "source": [
    "## Cookie"
   ]
  },
  {
   "cell_type": "markdown",
   "metadata": {},
   "source": [
    "Cookie (куки) — это небольшие текстовые файлы, в которые браузер записывает данные с посещенных вами сайтов. Файлы cookie позволяют сайтам «запоминать» своих посетителей, например, чтобы каждый раз не переспрашивать их логин и пароль.\n",
    "\n",
    "chrome://settings/cookies/detail?site=sphere.mail.ru (sessionid_gtp)\n",
    "\n",
    "https://sphere.mail.ru/people/?q=BD-11"
   ]
  },
  {
   "cell_type": "code",
   "execution_count": null,
   "metadata": {},
   "outputs": [],
   "source": [
    "page = requests.get('https://sphere.mail.ru/people/', params={'q': 'BD-11'})\n",
    "page.status_code"
   ]
  },
  {
   "cell_type": "code",
   "execution_count": null,
   "metadata": {},
   "outputs": [],
   "source": [
    "soup = BeautifulSoup(page.content, 'html.parser')\n",
    "\n",
    "table = soup.find('div', class_='people-list')\n",
    "table is not None"
   ]
  },
  {
   "cell_type": "code",
   "execution_count": null,
   "metadata": {},
   "outputs": [],
   "source": [
    "print(page.url)"
   ]
  },
  {
   "cell_type": "code",
   "execution_count": null,
   "metadata": {},
   "outputs": [],
   "source": [
    "for page_ in page.history:\n",
    "    print(page_.status_code, page_.url, sep='\\t')\n",
    "\n",
    "print(page.status_code, page.url, sep='\\t')"
   ]
  },
  {
   "cell_type": "code",
   "execution_count": null,
   "metadata": {},
   "outputs": [],
   "source": [
    "with open('sphere-cookies.json', mode='r') as f_cookies:\n",
    "    cookies = json.load(f_cookies)\n",
    "\n",
    "page = requests.get('https://sphere.mail.ru/people/', params={'q': 'BD-11'}, cookies=cookies)\n",
    "page.status_code"
   ]
  },
  {
   "cell_type": "code",
   "execution_count": null,
   "metadata": {},
   "outputs": [],
   "source": [
    "print(page.url)"
   ]
  },
  {
   "cell_type": "code",
   "execution_count": null,
   "metadata": {},
   "outputs": [],
   "source": [
    "soup = BeautifulSoup(page.content, 'html.parser')\n",
    "\n",
    "table = soup.find('div', class_='people-list')\n",
    "table is not None"
   ]
  },
  {
   "cell_type": "code",
   "execution_count": null,
   "metadata": {},
   "outputs": [],
   "source": [
    "from urllib.parse import urlparse"
   ]
  },
  {
   "cell_type": "code",
   "execution_count": null,
   "metadata": {},
   "outputs": [],
   "source": [
    "rows = table.find('table', class_='table-users').find('tbody').find_all('tr')\n",
    "\n",
    "users = [{'name': row.find('p', class_='realname').text,\n",
    "          'nick': urlparse(row.find('p', class_='username').find('a').attrs['href']).\\\n",
    "              path.split('/')[2],\n",
    "          'type': row.find('span', class_='user-group').text,\n",
    "          'power': row.find('td', class_='cell-skill').text,\n",
    "          'rating': row.find('td', class_='cell-rating').text.strip()}\n",
    "         for row in rows]\n",
    "\n",
    "df = pd.DataFrame(users)\n",
    "df.head(10)"
   ]
  },
  {
   "cell_type": "markdown",
   "metadata": {},
   "source": [
    "## Proxy"
   ]
  },
  {
   "cell_type": "code",
   "execution_count": null,
   "metadata": {},
   "outputs": [],
   "source": [
    "def browser_stats_from_yandex(**params):\n",
    "    page = requests.get('https://yandex.ru/internet/', **params)\n",
    "    soup = BeautifulSoup(page.content, 'html.parser')\n",
    "\n",
    "    params = {}\n",
    "    for e in soup.find('ul', class_='general-info').find_all('li'):\n",
    "        key = e.find('h3').text\n",
    "        val = e.find('div', {'class': None})\n",
    "        val = val.text if val else '–'\n",
    "        params[key] = val\n",
    "    return params"
   ]
  },
  {
   "cell_type": "code",
   "execution_count": null,
   "metadata": {},
   "outputs": [],
   "source": [
    "browser_stats_from_yandex()"
   ]
  },
  {
   "cell_type": "markdown",
   "metadata": {},
   "source": [
    "http://spys.one/proxys/DE/"
   ]
  },
  {
   "cell_type": "code",
   "execution_count": null,
   "metadata": {},
   "outputs": [],
   "source": [
    "proxies = { 'https': '62.171.177.80:3129', }\n",
    "\n",
    "browser_stats_from_yandex(proxies=proxies)"
   ]
  },
  {
   "cell_type": "code",
   "execution_count": null,
   "metadata": {
    "scrolled": true
   },
   "outputs": [],
   "source": [
    "browser_stats_from_yandex(proxies=proxies, headers={'User-Agent': 'TwitterBot'})"
   ]
  },
  {
   "cell_type": "markdown",
   "metadata": {},
   "source": [
    "## JavaScript"
   ]
  },
  {
   "cell_type": "markdown",
   "metadata": {},
   "source": [
    "<img width = '350px' src=\"images/javascript.jpg\">"
   ]
  },
  {
   "cell_type": "markdown",
   "metadata": {},
   "source": [
    "https://www.glamour.ru/trends/5-sposobov-nosit-bryuki-chtoby-byt-samoj-modnoj-etoj-vesnoj"
   ]
  },
  {
   "cell_type": "code",
   "execution_count": null,
   "metadata": {},
   "outputs": [],
   "source": [
    "page = requests.get('https://www.glamour.ru/trends/5-sposobov-nosit-bryuki-chtoby-byt-samoj-modnoj-etoj-vesnoj')\n",
    "page"
   ]
  },
  {
   "cell_type": "code",
   "execution_count": null,
   "metadata": {
    "scrolled": true
   },
   "outputs": [],
   "source": [
    "print(page.text)"
   ]
  },
  {
   "cell_type": "markdown",
   "metadata": {},
   "source": [
    "### Selenium\n",
    "\n",
    "<img width = '500px' src=\"https://cdn-a.william-reed.com/var/wrbm_gb_food_pharma/storage/images/publications/food-beverage-nutrition/nutraingredients.com/news/research/selenium-may-protect-against-epileptic-seizures-mouse-study-suggests/7690019-1-eng-GB/Selenium-may-protect-against-epileptic-seizures-mouse-study-suggests_wrbm_large.jpg\">\n",
    "\n",
    "http://selenium-python.readthedocs.io/\n",
    "\n",
    "https://kreisfahrer.gitbooks.io/selenium-webdriver/"
   ]
  },
  {
   "cell_type": "code",
   "execution_count": null,
   "metadata": {},
   "outputs": [],
   "source": [
    "from selenium import webdriver\n",
    "\n",
    "import html\n",
    "from time import sleep"
   ]
  },
  {
   "cell_type": "code",
   "execution_count": null,
   "metadata": {},
   "outputs": [],
   "source": [
    "with webdriver.Firefox() as driver:\n",
    "    sleep(10)\n",
    "    driver.get(\"https://mail.ru/\")\n",
    "    sleep(3)"
   ]
  },
  {
   "cell_type": "code",
   "execution_count": null,
   "metadata": {},
   "outputs": [],
   "source": [
    "with webdriver.Firefox() as driver:\n",
    "    sleep(10)\n",
    "    \n",
    "    driver.get('https://www.glamour.ru/beauty-news/kunzhutnoe-moloko-novinki-dlya-lica-ot-erborian')\n",
    "    sleep(1)\n",
    "\n",
    "    title = driver.find_element_by_tag_name('h1').text\n",
    "    \n",
    "    description = driver.find_element_by_xpath('//div[@itemprop=\"description\"]').text\n",
    "\n",
    "    image = driver.find_element_by_xpath('//meta[@property=\"og:image\"]').get_attribute('content')\n",
    "    \n",
    "    rubric = (e.text for e in driver.find_elements_by_class_name('article-detail-top__info-line'))\n",
    "    rubric = list(filter(None, map(str.lower, rubric)))\n",
    "\n",
    "    tags = (e.text for e in driver.find_elements_by_xpath('//ul[@class=\"tag-list__list\"]//a[@itemprop=\"name\"]'))\n",
    "    tags = list(filter(None, map(str.lower, tags)))\n",
    "    \n",
    "    info = {\n",
    "        'title': title,\n",
    "        'description': description,\n",
    "        'tags': tags,\n",
    "        'rubric': rubric,\n",
    "        'preview': image,\n",
    "    }\n",
    "    \n",
    "info"
   ]
  },
  {
   "cell_type": "markdown",
   "metadata": {},
   "source": [
    "### А как можно решить эту задачу по-умному?"
   ]
  },
  {
   "cell_type": "markdown",
   "metadata": {},
   "source": [
    "Идем в консольку браузера 😉"
   ]
  },
  {
   "cell_type": "code",
   "execution_count": null,
   "metadata": {},
   "outputs": [],
   "source": [
    "url_raw = 'https://www.glamour.ru/beauty-news/kunzhutnoe-moloko-novinki-dlya-lica-ot-erborian'\n",
    "\n",
    "url = urlparse(url_raw).path.rsplit('/', 1)[-1]\n",
    "url = 'https://api.glamour.ru/article/' + url\n",
    "\n",
    "page = requests.get(url)\n",
    "    \n",
    "tree = page.json()\n",
    "tree"
   ]
  },
  {
   "cell_type": "code",
   "execution_count": null,
   "metadata": {},
   "outputs": [],
   "source": [
    "title = tree['name']\n",
    "\n",
    "description = tree['preview_text']\n",
    "\n",
    "image = tree['preview_image']['preview_url']\n",
    "\n",
    "rubric = [tree['main_tag']['name']]\n",
    "rubric = list(filter(None, map(str.lower, rubric)))\n",
    "\n",
    "tags = (r['tag']['name'] for r in tree['tag_elements'])\n",
    "tags = list(filter(None, map(str.lower, tags)))\n",
    "\n",
    "info = {\n",
    "    'title': title,\n",
    "    'description': description,\n",
    "    'tags': tags,\n",
    "    'rubric': rubric,\n",
    "    'preview': image,\n",
    "}\n",
    "\n",
    "info"
   ]
  },
  {
   "cell_type": "markdown",
   "metadata": {},
   "source": [
    "### А что ещё умеет Selenium?"
   ]
  },
  {
   "cell_type": "code",
   "execution_count": null,
   "metadata": {},
   "outputs": [],
   "source": [
    "import random\n",
    "\n",
    "def random_sleep(offset=1.5, length=4):\n",
    "    sleep(random.random() * length + offset)\n",
    "\n",
    "with webdriver.Firefox() as driver:\n",
    "    sleep(12)\n",
    "    \n",
    "    driver.get(\"https://music.yandex.ru/artist/184100\")\n",
    "    random_sleep()\n",
    "    \n",
    "    # можно исполнять свой javascript код\n",
    "    driver.execute_script(\"window.scrollTo(0, 250);\")\n",
    "    random_sleep(0)\n",
    "    \n",
    "    # можно использовать CSS-селекторы или XPath\n",
    "    # лучше использовать Firefox, он лучше подсказывает пути\n",
    "    # стоит использовать, если путь выглядит лаконичным\n",
    "    # пример плохого CSS-селектора\n",
    "    elem = driver.find_element_by_css_selector(\n",
    "        'div.d-tabs__tab:nth-child(3) > a:nth-child(1)')\n",
    "    \n",
    "    # можно кликать по объектам\n",
    "    # [ переходим на страничку с альбомами группы ]\n",
    "    elem.click()\n",
    "    random_sleep()\n",
    "    \n",
    "    # можно искать по классам\n",
    "    albums = driver.find_element_by_class_name('page-artist__albums').\\\n",
    "        find_elements_by_class_name('album_selectable')\n",
    "    album = albums[3]\n",
    "    # [ прокручиваем до нужного альбома ]\n",
    "    driver.execute_script(\"return arguments[0].scrollIntoView();\", album)\n",
    "    random_sleep()\n",
    "    # [ переходим на страничку с выбранным альбомом ]\n",
    "    album.find_element_by_class_name('d-link').click()\n",
    "    random_sleep()\n",
    "    \n",
    "    driver.execute_script(\"window.scrollTo(0, 340);\")\n",
    "    random_sleep(0)\n",
    "    \n",
    "    # [ кликаем на play ]\n",
    "    play = driver.find_element_by_class_name('button-play__type_album')\n",
    "    play.click()\n",
    "    \n",
    "    # [ прокликиваем на 5 трек ]\n",
    "    # пример хорошего CSS-селектора\n",
    "    next_ = driver.find_element_by_css_selector('.d-icon_track-next')\n",
    "    for i in range(4):\n",
    "        next_.click()\n",
    "        random_sleep(1, 1)\n",
    "        \n",
    "    # [ выводим информацию о треке ]\n",
    "    # пример хорошего CSS-селектора\n",
    "    elem = driver.find_element_by_css_selector('.track__name')\n",
    "    artist = elem.find_element_by_class_name('track__artists').text\n",
    "    title = elem.find_element_by_class_name('track__title').text\n",
    "    \n",
    "    tracks = driver.find_element_by_css_selector('.page-album__tracks').\\\n",
    "        find_elements_by_class_name('d-track')\n",
    "    \n",
    "    for track_i, track in enumerate(tracks, 1):\n",
    "        if 'd-track_playing' in track.get_attribute(\"class\").split(' '):\n",
    "            break\n",
    "    \n",
    "    print(\"Now playing: {} - {}\".format(artist, title))\n",
    "    print(\"{}th track of {} tracks\".format(track_i, len(tracks)))\n",
    "    \n",
    "    sleep(10)"
   ]
  },
  {
   "cell_type": "markdown",
   "metadata": {},
   "source": [
    "И многое, многое другое... 😊"
   ]
  },
  {
   "cell_type": "markdown",
   "metadata": {},
   "source": [
    "## Selenium — инструмент тестирования\n",
    "\n",
    "[Katalon Recorder](https://www.katalon.com/) (Selenium IDE): [Chrome Extension](https://chrome.google.com/webstore/detail/katalon-recorder-selenium/ljdobmomdgdljniojadhoplhkpialdid), [Firefox Extension](https://addons.mozilla.org/en-US/firefox/addon/katalon-automation-record/)\n",
    "\n",
    "chrome://extensions/\n",
    "\n",
    "https://mail.ru/ --> \"кто такой филантроп?\""
   ]
  },
  {
   "cell_type": "code",
   "execution_count": null,
   "metadata": {},
   "outputs": [],
   "source": []
  }
 ],
 "metadata": {
  "kernelspec": {
   "display_name": "Python 3",
   "language": "python",
   "name": "python3"
  },
  "language_info": {
   "codemirror_mode": {
    "name": "ipython",
    "version": 3
   },
   "file_extension": ".py",
   "mimetype": "text/x-python",
   "name": "python",
   "nbconvert_exporter": "python",
   "pygments_lexer": "ipython3",
   "version": "3.7.9"
  }
 },
 "nbformat": 4,
 "nbformat_minor": 2
}
